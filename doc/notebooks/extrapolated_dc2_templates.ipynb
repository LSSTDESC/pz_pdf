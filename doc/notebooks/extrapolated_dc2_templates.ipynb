{
 "cells": [
  {
   "cell_type": "markdown",
   "metadata": {},
   "source": [
    "# Creating DC2 Templates\n",
    "\n",
    "Loading Brown et al. templates with emission lines masked we will attempt to extrapolate in color space and create new templates that better span the color space of DC2 galaxies. To do the extrapolation we will use [ESP](https://github.com/jbkalmbach/ESP)."
   ]
  },
  {
   "cell_type": "markdown",
   "metadata": {},
   "source": [
    "## Creating templates with LSST colors\n",
    "\n",
    "CosmoDC2 comes with rest frame magnitudes in the LSST bands. We can use these to map out the color space and create new templates to better cover this color space."
   ]
  },
  {
   "cell_type": "markdown",
   "metadata": {},
   "source": [
    "### Load templates and perform PCA"
   ]
  },
  {
   "cell_type": "code",
   "execution_count": null,
   "metadata": {},
   "outputs": [],
   "source": [
    "import esp\n",
    "import os\n",
    "import numpy as np\n",
    "import GCRCatalogs\n",
    "from copy import deepcopy\n",
    "from matplotlib import pyplot as plt\n",
    "from lsst.sims.photUtils import BandpassDict, Bandpass, Sed\n",
    "from sklearn.cluster import KMeans\n",
    "%matplotlib inline"
   ]
  },
  {
   "cell_type": "markdown",
   "metadata": {},
   "source": [
    "Here we load the Brown templates from the data directory. To get better coverage in the bluer edge of color space we also include \"two single stellar population models with low/no dust and low metallicity that were used with BPZ for the HUDF to mimic super blue galaxies at z~5-7.\" (From Sam's comment [here](https://github.com/LSSTDESC/pz_pdf/issues/2))."
   ]
  },
  {
   "cell_type": "code",
   "execution_count": null,
   "metadata": {},
   "outputs": [],
   "source": [
    "brown_data_dir = '../../data/new_templates/'\n",
    "pca_obj = esp.pcaSED()\n",
    "pca_obj.load_full_spectra(brown_data_dir)"
   ]
  },
  {
   "cell_type": "code",
   "execution_count": null,
   "metadata": {},
   "outputs": [],
   "source": [
    "new_spec_list = []\n",
    "for sed_obj in pca_obj.spec_list_orig:\n",
    "    new_sed_obj = deepcopy(sed_obj)\n",
    "    new_sed_obj.wavelen = new_sed_obj.wavelen/10. #Convert to nanometers\n",
    "    new_spec_list.append(new_sed_obj)\n",
    "pca_obj.spec_list_orig = new_spec_list"
   ]
  },
  {
   "cell_type": "markdown",
   "metadata": {},
   "source": [
    "Now we perform PCA on the templates truncating them at 1200.0 nanometers and keeping 10 components"
   ]
  },
  {
   "cell_type": "code",
   "execution_count": null,
   "metadata": {},
   "outputs": [],
   "source": [
    "pca_obj.PCA(minWavelen=12., maxWavelen=1200., comps=10)"
   ]
  },
  {
   "cell_type": "code",
   "execution_count": null,
   "metadata": {},
   "outputs": [],
   "source": [
    "plotter = esp.plotUtils()\n",
    "fig = plt.figure(figsize=(12, 10))\n",
    "fig = plotter.plot_eigenspectra(pca_obj, 4, fig = fig)"
   ]
  },
  {
   "cell_type": "code",
   "execution_count": null,
   "metadata": {},
   "outputs": [],
   "source": [
    "### If there is already a folder for storing the PCA information uncomment below\n",
    "! rm -rf brown_pca"
   ]
  },
  {
   "cell_type": "code",
   "execution_count": null,
   "metadata": {},
   "outputs": [],
   "source": [
    "os.mkdir('brown_pca')\n",
    "pca_obj.write_output('brown_pca')"
   ]
  },
  {
   "cell_type": "code",
   "execution_count": null,
   "metadata": {},
   "outputs": [],
   "source": [
    "print('The 10 eigenspectra explain %.4f percent of the variance in the input template set.' % (100*np.sum(pca_obj.exp_var)))"
   ]
  },
  {
   "cell_type": "code",
   "execution_count": null,
   "metadata": {},
   "outputs": [],
   "source": [
    "magfilter = [LSST_filters/magnitude:LSST_i:observed:dustAtlas < 25.3]"
   ]
  },
  {
   "cell_type": "markdown",
   "metadata": {},
   "source": [
    "### Load the DC2 data from `gcr_catalogs`"
   ]
  },
  {
   "cell_type": "code",
   "execution_count": null,
   "metadata": {},
   "outputs": [],
   "source": [
    "catalog = GCRCatalogs.load_catalog('cosmoDC2_v1.0_9556')"
   ]
  },
  {
   "cell_type": "code",
   "execution_count": null,
   "metadata": {},
   "outputs": [],
   "source": [
    "### To see a list of all the possible quantities uncomment below\n",
    "#print(sorted(catalog.list_all_quantities()))"
   ]
  },
  {
   "cell_type": "code",
   "execution_count": null,
   "metadata": {},
   "outputs": [],
   "source": [
    "new_pca_obj = esp.pcaSED()\n",
    "new_pca_obj.load_pca_output('brown_pca')"
   ]
  },
  {
   "cell_type": "code",
   "execution_count": null,
   "metadata": {},
   "outputs": [],
   "source": [
    "catalog.load_catalog?\n"
   ]
  },
  {
   "cell_type": "markdown",
   "metadata": {},
   "source": [
    "Here we will load in the LSST z=0 magnitudes of the cosmoDC2 galaxies."
   ]
  },
  {
   "cell_type": "code",
   "execution_count": null,
   "metadata": {},
   "outputs": [],
   "source": [
    "data = catalog.get_quantities(['Mag_true_u_lsst_z0', 'Mag_true_g_lsst_z0', 'Mag_true_r_lsst_z0',\n",
    "                               'Mag_true_i_lsst_z0', 'Mag_true_z_lsst_z0', 'Mag_true_Y_lsst_z0',\n",
    "                               'LSST_filters/magnitude:LSST_i:observed:dustAtlas'])"
   ]
  },
  {
   "cell_type": "code",
   "execution_count": null,
   "metadata": {},
   "outputs": [],
   "source": [
    "mask = (data['LSST_filters/magnitude:LSST_i:observed:dustAtlas']<25.3)\n",
    "print ((mask))\n",
    "#trimdata = data[mask]"
   ]
  },
  {
   "cell_type": "code",
   "execution_count": null,
   "metadata": {},
   "outputs": [],
   "source": [
    "len(data['Mag_true_Y_lsst_z0'])"
   ]
  },
  {
   "cell_type": "markdown",
   "metadata": {},
   "source": [
    "In order to keep the dataset a reasonable size in the Gaussian Process below we will thin it out by a factor of 1000. This should still provide a representative color range of the full dataset. We do this and calculate the colors from the magnitudes in the step below."
   ]
  },
  {
   "cell_type": "code",
   "execution_count": null,
   "metadata": {},
   "outputs": [],
   "source": [
    "colors = []\n",
    "for i in range(0,len(data['Mag_true_Y_lsst_z0']), 1000):\n",
    "    single_gal = []\n",
    "    for band in ['u', 'g', 'r', 'i', 'z', 'Y']:\n",
    "        single_gal.append(data['Mag_true_%s_lsst_z0' % band][i])\n",
    "    single_gal = np.array(single_gal)\n",
    "    colors.append(single_gal[:-1] - single_gal[1:])\n",
    "lsst_dc2_colors = np.array(colors)"
   ]
  },
  {
   "cell_type": "code",
   "execution_count": null,
   "metadata": {},
   "outputs": [],
   "source": [
    "# Load the LSST bandpasses\n",
    "lsst_bandpass_dict = BandpassDict.loadTotalBandpassesFromFiles()"
   ]
  },
  {
   "cell_type": "markdown",
   "metadata": {},
   "source": [
    "Here we calculate the template colors in the LSST bandpasses and compare to the cosmoDC2 galaxies."
   ]
  },
  {
   "cell_type": "code",
   "execution_count": null,
   "metadata": {},
   "outputs": [],
   "source": [
    "lsst_template_colors = new_pca_obj.calc_colors(lsst_bandpass_dict, 10)"
   ]
  },
  {
   "cell_type": "code",
   "execution_count": null,
   "metadata": {},
   "outputs": [],
   "source": [
    "fig = plt.figure(figsize=(15,15))\n",
    "color_labels = ['u-g', 'g-r', 'r-i', 'i-z', 'z-y']\n",
    "for i in range(4):\n",
    "    col_0 = i\n",
    "    col_1 = i+1\n",
    "    fig.add_subplot(2,2,i+1)\n",
    "    plt.scatter(lsst_dc2_colors[:,col_0], lsst_dc2_colors[:,col_1], label='DC2 galaxy colors')\n",
    "    plt.scatter(lsst_template_colors[:,col_0], lsst_template_colors[:,col_1], label='(Brown + 2 Blue) SED colors')\n",
    "    plt.xlabel(color_labels[i])\n",
    "    plt.ylabel(color_labels[i+1])\n",
    "    if i == 0:\n",
    "        plt.legend(loc=4)\n",
    "plt.suptitle('Comparison of colors')\n",
    "plt.subplots_adjust(top=0.95)"
   ]
  },
  {
   "cell_type": "markdown",
   "metadata": {},
   "source": [
    "### Run the Gaussian Process method from ESP in the color space to generate new templates.\n",
    "\n",
    "What we are doing below is fitting a Gaussian process for the PCA coefficients of the templates to their locations in the LSST color space. Then for every cosmoDC2 color we are predicting PCA cofficients for those locations in color space. Using these PCA coefficients we then reconstruct a spectrum for that color location and recalculate the color of the new \"template\". Below we compare how well the extrapolated template reproduces the input colors at that location."
   ]
  },
  {
   "cell_type": "code",
   "execution_count": null,
   "metadata": {},
   "outputs": [],
   "source": [
    "gp_obj = esp.gaussianProcessEstimate(new_pca_obj, lsst_bandpass_dict, lsst_dc2_colors)"
   ]
  },
  {
   "cell_type": "code",
   "execution_count": null,
   "metadata": {},
   "outputs": [],
   "source": [
    "#gp_kernel = gp_obj.define_kernel('exp', 1.0e-3, 1.0e-3, n_dim=len(lsst_dc2_colors[0]))\n",
    "gp_kernel = gp_obj.define_kernel('exp', 1.0e-3, 1.0e-3, n_dim=len(lsst_dc2_colors[0]))"
   ]
  },
  {
   "cell_type": "code",
   "execution_count": null,
   "metadata": {},
   "outputs": [],
   "source": [
    "gp_spec = gp_obj.gp_predict(gp_kernel, opt_bandpass_dict=lsst_bandpass_dict)"
   ]
  },
  {
   "cell_type": "code",
   "execution_count": null,
   "metadata": {},
   "outputs": [],
   "source": [
    "lsst_gp_colors = gp_spec.calc_colors(lsst_bandpass_dict, 10)"
   ]
  },
  {
   "cell_type": "code",
   "execution_count": null,
   "metadata": {},
   "outputs": [],
   "source": [
    "fig = plt.figure(figsize=(15,15))\n",
    "for i in range(4):\n",
    "    fig.add_subplot(2,2,i+1)\n",
    "    plt.scatter(lsst_dc2_colors[:,i], lsst_dc2_colors[:,i+1], label='DC2 Colors')\n",
    "    plt.scatter(lsst_gp_colors[:,i], lsst_gp_colors[:,i+1], alpha=0.2,c='forestgreen', label='New Template Colors w/ Exp Kernel')\n",
    "    plt.scatter(lsst_template_colors[:,i], lsst_template_colors[:,i+1], label='(Brown + 2 Blue) SED colors')\n",
    "    plt.xlabel(color_labels[i])\n",
    "    plt.ylabel(color_labels[i+1])\n",
    "    if i == 2:\n",
    "        plt.legend()\n",
    "plt.tight_layout()"
   ]
  },
  {
   "cell_type": "markdown",
   "metadata": {},
   "source": [
    "Compare how closely we are able to reconstruct the colors for each cosmoDC2 galaxy with a new template."
   ]
  },
  {
   "cell_type": "code",
   "execution_count": null,
   "metadata": {},
   "outputs": [],
   "source": [
    "#m32_gp_lsst = np.sqrt(np.sum(np.square(lsst_gp_colors - lsst_dc2_colors), axis=1))"
   ]
  },
  {
   "cell_type": "code",
   "execution_count": null,
   "metadata": {},
   "outputs": [],
   "source": [
    "#m52_gp_lsst = np.sqrt(np.sum(np.square(lsst_gp_colors - lsst_dc2_colors), axis=1))"
   ]
  },
  {
   "cell_type": "code",
   "execution_count": null,
   "metadata": {},
   "outputs": [],
   "source": [
    "#sq_exp_gp_lsst = np.sqrt(np.sum(np.square(lsst_gp_colors - lsst_dc2_colors), axis=1))"
   ]
  },
  {
   "cell_type": "code",
   "execution_count": null,
   "metadata": {},
   "outputs": [],
   "source": [
    "exp_gp_lsst = np.sqrt(np.sum(np.square(lsst_gp_colors - lsst_dc2_colors), axis=1))"
   ]
  },
  {
   "cell_type": "code",
   "execution_count": null,
   "metadata": {},
   "outputs": [],
   "source": [
    "fig = plt.figure(figsize=(6,6))\n",
    "n, bins, _ = plt.hist(m52_gp_lsst, histtype='step', label='matern 52 kernel', lw=4)\n",
    "plt.hist(exp_gp_lsst, bins=bins, histtype='step', label='exp kernel', lw=4)\n",
    "plt.hist(m32_gp_lsst, bins=bins, histtype='step', label='matern 32 kernel', lw=4, range=(0, 2.5))\n",
    "plt.hist(sq_exp_gp_lsst, bins=bins, histtype='step', label='sq exp kernel', lw=4)\n",
    "plt.legend()\n",
    "plt.xlabel('Sqrt Summed Squared Error in LSST Colors')\n",
    "plt.ylabel('Count')"
   ]
  },
  {
   "cell_type": "code",
   "execution_count": null,
   "metadata": {},
   "outputs": [],
   "source": [
    "np.exp(gp_spec.params)"
   ]
  },
  {
   "cell_type": "markdown",
   "metadata": {},
   "source": [
    "It seems that we should use the Exponential kernel to create our templates."
   ]
  },
  {
   "cell_type": "markdown",
   "metadata": {},
   "source": [
    "### Pick the new templates that most accurately recreate the input colors to use as a new set of templates.\n",
    "\n",
    "First we will find the 5000 new templates that best recreate the input colors from cosmoDC2 galaxies."
   ]
  },
  {
   "cell_type": "code",
   "execution_count": null,
   "metadata": {},
   "outputs": [],
   "source": [
    "min_err_idx = np.argsort(exp_gp_lsst)\n",
    "min_err_idx = min_err_idx[:5000]"
   ]
  },
  {
   "cell_type": "code",
   "execution_count": null,
   "metadata": {},
   "outputs": [],
   "source": [
    "fig = plt.figure(figsize=(12,12))\n",
    "for i in range(4):\n",
    "    fig.add_subplot(2,2,i+1)\n",
    "    plt.scatter(lsst_dc2_colors[:,i], lsst_dc2_colors[:,i+1], label='DC2 Colors')\n",
    "    plt.scatter(lsst_gp_colors[min_err_idx,i], lsst_gp_colors[min_err_idx,i+1], alpha=0.2, label='New Template Colors')\n",
    "    plt.scatter(lsst_template_colors[:,i], lsst_template_colors[:,i+1], label='(Brown + 2 Blue) SED colors')\n",
    "    plt.xlabel(color_labels[i])\n",
    "    plt.ylabel(color_labels[i+1])\n",
    "    if i == 2:\n",
    "        plt.legend()\n",
    "plt.tight_layout()"
   ]
  },
  {
   "cell_type": "markdown",
   "metadata": {},
   "source": [
    "Next we will cluster these high-grade templates into 50 clusters in color space to get a good spread of new locations for new templates and then randomly choose one template from each cluster to be the point at which we will create a new template."
   ]
  },
  {
   "cell_type": "code",
   "execution_count": null,
   "metadata": {},
   "outputs": [],
   "source": [
    "rand_state = np.random.RandomState(3213)\n",
    "kmeans = KMeans(n_clusters = 50, random_state=rand_state).fit(lsst_gp_colors[min_err_idx])"
   ]
  },
  {
   "cell_type": "code",
   "execution_count": null,
   "metadata": {},
   "outputs": [],
   "source": [
    "new_template_idx = []\n",
    "for cluster_num in range(50):\n",
    "    cluster_idx = np.where(kmeans.labels_ == cluster_num)[0]\n",
    "    new_template_idx.append(rand_state.choice(min_err_idx[cluster_idx]))"
   ]
  },
  {
   "cell_type": "markdown",
   "metadata": {},
   "source": [
    "Now we randomly choose one template from each cluster and use the PCA coefficients for these points in color space to generate a new set of 50 templates to complement the (Brown + 2 Blue) templates."
   ]
  },
  {
   "cell_type": "code",
   "execution_count": null,
   "metadata": {},
   "outputs": [],
   "source": [
    "new_templates = gp_spec.reconstruct_spectra(10)[new_template_idx]"
   ]
  },
  {
   "cell_type": "code",
   "execution_count": null,
   "metadata": {},
   "outputs": [],
   "source": [
    "fig = plt.figure(figsize=(14, 8))\n",
    "for i in range(50):\n",
    "    plt.plot(new_pca_obj.wavelengths, new_templates[i], alpha=0.8)\n",
    "plt.xlabel('Wavelengths (nm)')\n",
    "plt.ylabel('Scaled flux')\n",
    "plt.title('50 new templates')"
   ]
  },
  {
   "cell_type": "markdown",
   "metadata": {},
   "source": [
    "We take these new templates and see where they are in color space compared to DC2 and the (Brown + 2 Blue) templates"
   ]
  },
  {
   "cell_type": "code",
   "execution_count": null,
   "metadata": {},
   "outputs": [],
   "source": [
    "lsst_new_template_colors = []\n",
    "for sed_template in new_templates:\n",
    "    test_sed = Sed()\n",
    "    test_sed.setSED(wavelen=new_pca_obj.wavelengths, flambda=sed_template)\n",
    "    maglist = lsst_bandpass_dict.magListForSed(test_sed)\n",
    "    colors_list = maglist[:-1] - maglist[1:]\n",
    "    lsst_new_template_colors.append(colors_list)"
   ]
  },
  {
   "cell_type": "code",
   "execution_count": null,
   "metadata": {},
   "outputs": [],
   "source": [
    "lsst_new_template_colors = np.array(lsst_new_template_colors)"
   ]
  },
  {
   "cell_type": "code",
   "execution_count": null,
   "metadata": {},
   "outputs": [],
   "source": [
    "color_labels = ['u-g', 'g-r', 'r-i', 'i-z', 'z-y']\n",
    "\n",
    "fig = plt.figure(figsize=(15,15))\n",
    "for i in range(4):\n",
    "    fig.add_subplot(2,2,i+1)\n",
    "    plt.scatter(lsst_dc2_colors[:,i], lsst_dc2_colors[:,i+1], label='DC2 Colors', alpha=0.4)\n",
    "    plt.scatter(lsst_new_template_colors[:,i], lsst_new_template_colors[:,i+1], label='New Template Colors', s=88)\n",
    "    plt.scatter(lsst_template_colors[:,i], lsst_template_colors[:,i+1], label='Brown SED colors')\n",
    "    plt.xlabel(color_labels[i])\n",
    "    plt.ylabel(color_labels[i+1])\n",
    "    if i == 2:\n",
    "        plt.legend()\n",
    "plt.tight_layout()\n",
    "plt.subplots_adjust(top=0.95)\n",
    "plt.suptitle('Templates from running ESP with LSST Bands')"
   ]
  },
  {
   "cell_type": "markdown",
   "metadata": {},
   "source": [
    "Finally, we write the templates to file."
   ]
  },
  {
   "cell_type": "code",
   "execution_count": null,
   "metadata": {},
   "outputs": [],
   "source": [
    "### To write the new templates to file:\n",
    "# (Changed to be written in angstroms to be consistent with Brown templates given)\n",
    "template_folder = 'new_templates'\n",
    "os.mkdir(template_folder)\n",
    "sed_names = []\n",
    "spec_on = 0\n",
    "for sed_obj in new_templates:\n",
    "    with open(os.path.join(template_folder, '%i.sed' % spec_on), 'w') as f:\n",
    "        f.write('# Wavelength(angstrom)  Flambda(ergs/cm^s/s/angstrom)\\n')\n",
    "        for line_idx in range(len(new_pca_obj.wavelengths)):\n",
    "            print(10.*new_pca_obj.wavelengths[line_idx], 0.1*sed_obj[line_idx], file=f)\n",
    "    spec_on += 1"
   ]
  },
  {
   "cell_type": "markdown",
   "metadata": {},
   "source": [
    "## Creating templates with CosmoDC2 tophat filters.\n",
    "\n",
    "CosmoDC2 catalogs also have a set of tophat filters in a large set of wavelength bins from 100 nm up to around 2 microns. We can use these instead of LSST bands and compare the results."
   ]
  },
  {
   "cell_type": "markdown",
   "metadata": {},
   "source": [
    "### Getting the information out of CosmoDC2 with `GCR-Catalogs`\n",
    "\n",
    "We need to get information on the shape of the tophat bands as well as the flux in each of the bands for the cosmoDC2 galaxies."
   ]
  },
  {
   "cell_type": "code",
   "execution_count": null,
   "metadata": {},
   "outputs": [],
   "source": [
    "sed_label = []\n",
    "sed_min_wave = []\n",
    "sed_wave_width = []\n",
    "for quant_label in sorted(catalog.list_all_quantities()):\n",
    "    if (quant_label.startswith('sed') and (quant_label.endswith('bulge') or quant_label.endswith('disk'))):\n",
    "        sed_label.append(quant_label)\n",
    "        label_split = quant_label.split('_')\n",
    "        sed_min_wave.append(int(label_split[1])/10)\n",
    "        sed_wave_width.append(int(label_split[2])/10)\n",
    "bin_order = np.argsort(sed_min_wave)\n",
    "sed_label = np.array(sed_label)[bin_order]\n",
    "sed_min_wave = np.array(sed_min_wave)[bin_order]\n",
    "sed_wave_width = np.array(sed_wave_width)[bin_order]"
   ]
  },
  {
   "cell_type": "code",
   "execution_count": null,
   "metadata": {},
   "outputs": [],
   "source": [
    "sed_min_wave = np.unique(sed_min_wave)\n",
    "sed_wave_width = np.unique(sed_wave_width)"
   ]
  },
  {
   "cell_type": "markdown",
   "metadata": {},
   "source": [
    "Now we have the names of the columns we need and we know the starting wavelength and width of each band."
   ]
  },
  {
   "cell_type": "code",
   "execution_count": null,
   "metadata": {},
   "outputs": [],
   "source": [
    "sed_min_wave, sed_wave_width"
   ]
  },
  {
   "cell_type": "code",
   "execution_count": null,
   "metadata": {},
   "outputs": [],
   "source": [
    "columns = []\n",
    "for sed_bin in sed_label:\n",
    "    columns.append(sed_bin)"
   ]
  },
  {
   "cell_type": "code",
   "execution_count": null,
   "metadata": {},
   "outputs": [],
   "source": [
    "data = catalog.get_quantities(columns)"
   ]
  },
  {
   "cell_type": "code",
   "execution_count": null,
   "metadata": {},
   "outputs": [],
   "source": [
    "len(data[columns[0]])"
   ]
  },
  {
   "cell_type": "markdown",
   "metadata": {},
   "source": [
    "Here we set up the bandpass dictionary to calculate the template colors in the tophat bands.  We skip the last 4 bandpasses that go past the LSST range so we can use the same PCA coefficients as we did above."
   ]
  },
  {
   "cell_type": "code",
   "execution_count": null,
   "metadata": {},
   "outputs": [],
   "source": [
    "wavelen = np.arange(99., 1200, 0.1)"
   ]
  },
  {
   "cell_type": "code",
   "execution_count": null,
   "metadata": {},
   "outputs": [],
   "source": [
    "len(sed_min_wave)"
   ]
  },
  {
   "cell_type": "code",
   "execution_count": null,
   "metadata": {},
   "outputs": [],
   "source": [
    "BandpassList = []\n",
    "bp_names = []\n",
    "# Skip the last 4 bandpasses that go past the LSST range so we can use the same PCA coefficients\n",
    "for i in range(26):#range(len(sed_min_wave)):\n",
    "\n",
    "    pass_through = np.where(((wavelen >= sed_min_wave[i]) & \n",
    "                             (wavelen <= (sed_min_wave[i] + sed_wave_width[i]))))\n",
    "\n",
    "    sb = np.zeros(len(wavelen))\n",
    "    sb[pass_through] = 1.0\n",
    "    \n",
    "    bp = esp.lsst_utils.Bandpass()\n",
    "    bp.setBandpass(wavelen, sb, wavelen_min=100., wavelen_max=1200., wavelen_step=0.1)\n",
    "    BandpassList.append(bp)\n",
    "    bp_names.append('band_%i' % i)\n",
    "bp_dict = esp.lsst_utils.BandpassDict(BandpassList, bp_names)"
   ]
  },
  {
   "cell_type": "code",
   "execution_count": null,
   "metadata": {},
   "outputs": [],
   "source": [
    "bulge_fluxes = []\n",
    "disk_fluxes = []\n",
    "for label in sed_label:\n",
    "    if label.endswith('bulge'):\n",
    "        bulge_fluxes.append(data[label])\n",
    "    else:\n",
    "        disk_fluxes.append(data[label])\n",
    "bulge_fluxes = np.array(bulge_fluxes)\n",
    "disk_fluxes = np.array(disk_fluxes)\n",
    "total_fluxes = bulge_fluxes + disk_fluxes"
   ]
  },
  {
   "cell_type": "code",
   "execution_count": null,
   "metadata": {},
   "outputs": [],
   "source": [
    "np.shape(total_fluxes)"
   ]
  },
  {
   "cell_type": "markdown",
   "metadata": {},
   "source": [
    "We turn the fluxes in the tophat bands into magnitudes and then colors with units of magnitudes."
   ]
  },
  {
   "cell_type": "code",
   "execution_count": null,
   "metadata": {},
   "outputs": [],
   "source": [
    "total_mags =  -2.5*np.log10(total_fluxes)"
   ]
  },
  {
   "cell_type": "code",
   "execution_count": null,
   "metadata": {},
   "outputs": [],
   "source": [
    "total_colors = total_mags[:-1] - total_mags[1:]"
   ]
  },
  {
   "cell_type": "code",
   "execution_count": null,
   "metadata": {},
   "outputs": [],
   "source": [
    "total_colors = total_colors.T"
   ]
  },
  {
   "cell_type": "code",
   "execution_count": null,
   "metadata": {},
   "outputs": [],
   "source": [
    "np.shape(total_colors)"
   ]
  },
  {
   "cell_type": "code",
   "execution_count": null,
   "metadata": {},
   "outputs": [],
   "source": [
    "tophat_template_colors = new_pca_obj.calc_colors(bp_dict, 10)"
   ]
  },
  {
   "cell_type": "markdown",
   "metadata": {},
   "source": [
    "Once again we thin by a factor of 1000."
   ]
  },
  {
   "cell_type": "code",
   "execution_count": null,
   "metadata": {},
   "outputs": [],
   "source": [
    "tophat_dc2_colors = total_colors[::1000,:-4]"
   ]
  },
  {
   "cell_type": "code",
   "execution_count": null,
   "metadata": {},
   "outputs": [],
   "source": [
    "np.shape(tophat_dc2_colors)"
   ]
  },
  {
   "cell_type": "markdown",
   "metadata": {},
   "source": [
    "Finally we have a set of colors for the templates and the cosmoDC2 galaxies from 26 tophat bands."
   ]
  },
  {
   "cell_type": "code",
   "execution_count": null,
   "metadata": {},
   "outputs": [],
   "source": [
    "fig = plt.figure(figsize=(18,18))\n",
    "color_labels = ['%s - %s' % (sed_min_wave[i], sed_min_wave[i+1]) for i in range(25)]\n",
    "for i in range(24):\n",
    "    col_0 = i\n",
    "    col_1 = i+1\n",
    "    fig.add_subplot(5,5,i+1)\n",
    "    plt.scatter(tophat_dc2_colors[:,col_0], tophat_dc2_colors[:,col_1], label='DC2 galaxy colors')\n",
    "    plt.scatter(tophat_template_colors[:,col_0], tophat_template_colors[:,col_1], label='(Brown + 2 Blue) SED colors')\n",
    "    plt.xlabel(color_labels[i])\n",
    "    plt.ylabel(color_labels[i+1])\n",
    "    if i == 0:\n",
    "        plt.legend(loc=4)\n",
    "plt.suptitle('Comparison of colors')\n",
    "plt.subplots_adjust(top=0.95)\n",
    "plt.tight_layout()"
   ]
  },
  {
   "cell_type": "markdown",
   "metadata": {},
   "source": [
    "### Fit the Gaussian Process\n",
    "\n",
    "We fit the Gaussian Process as we did above using the new set of colors."
   ]
  },
  {
   "cell_type": "code",
   "execution_count": null,
   "metadata": {},
   "outputs": [],
   "source": [
    "gp_obj = esp.gaussianProcessEstimate(new_pca_obj, bp_dict, tophat_dc2_colors)"
   ]
  },
  {
   "cell_type": "code",
   "execution_count": null,
   "metadata": {},
   "outputs": [],
   "source": [
    "gp_kernel = gp_obj.define_kernel('exp', 1.0e-3, 1.0e-3, n_dim=len(tophat_dc2_colors[0]))"
   ]
  },
  {
   "cell_type": "code",
   "execution_count": null,
   "metadata": {},
   "outputs": [],
   "source": [
    "gp_spec = gp_obj.gp_predict(gp_kernel, opt_bandpass_dict=bp_dict)"
   ]
  },
  {
   "cell_type": "code",
   "execution_count": null,
   "metadata": {},
   "outputs": [],
   "source": [
    "tophat_gp_colors = gp_spec.calc_colors(bp_dict, 10)"
   ]
  },
  {
   "cell_type": "code",
   "execution_count": null,
   "metadata": {},
   "outputs": [],
   "source": [
    "fig = plt.figure(figsize=(18,18))\n",
    "color_labels = ['%s - %s' % (sed_min_wave[i], sed_min_wave[i+1]) for i in range(25)]\n",
    "for i in range(24):\n",
    "    col_0 = i\n",
    "    col_1 = i+1\n",
    "    fig.add_subplot(5,5,i+1)\n",
    "    plt.scatter(tophat_dc2_colors[:,col_0], tophat_dc2_colors[:,col_1], label='DC2 galaxy colors')\n",
    "    plt.scatter(tophat_gp_colors[:,i], tophat_gp_colors[:,i+1], alpha=0.2, label='New Template Colors w/ Exp Kernel')\n",
    "    plt.scatter(tophat_template_colors[:,col_0], tophat_template_colors[:,col_1], label='(Brown + 2 Blue) SED colors')\n",
    "    plt.xlabel(color_labels[i])\n",
    "    plt.ylabel(color_labels[i+1])\n",
    "    if i == 2:\n",
    "        plt.legend()\n",
    "plt.tight_layout()"
   ]
  },
  {
   "cell_type": "code",
   "execution_count": null,
   "metadata": {},
   "outputs": [],
   "source": [
    "#exp_gp_tophat = np.sqrt(np.sum(np.square(tophat_gp_colors - tophat_dc2_colors), axis=1))"
   ]
  },
  {
   "cell_type": "code",
   "execution_count": null,
   "metadata": {},
   "outputs": [],
   "source": [
    "#sq_exp_gp_tophat = np.sqrt(np.sum(np.square(tophat_gp_colors - tophat_dc2_colors), axis=1))"
   ]
  },
  {
   "cell_type": "code",
   "execution_count": null,
   "metadata": {},
   "outputs": [],
   "source": [
    "#m32_gp_tophat = np.sqrt(np.sum(np.square(tophat_gp_colors - tophat_dc2_colors), axis=1))"
   ]
  },
  {
   "cell_type": "code",
   "execution_count": null,
   "metadata": {},
   "outputs": [],
   "source": [
    "#m52_gp_tophat = np.sqrt(np.sum(np.square(tophat_gp_colors - tophat_dc2_colors), axis=1))"
   ]
  },
  {
   "cell_type": "markdown",
   "metadata": {},
   "source": [
    "Since we are going to select the best 5000 it seems we should use the exponential kernel again even though it does seem to have a longer tail."
   ]
  },
  {
   "cell_type": "code",
   "execution_count": null,
   "metadata": {},
   "outputs": [],
   "source": [
    "fig = plt.figure(figsize=(6,6))\n",
    "n, bins, _ = plt.hist(m52_gp_tophat, histtype='step', label='matern 52 kernel', lw=4, range=(0, 3.5))\n",
    "plt.hist(exp_gp_tophat, bins=bins, histtype='step', label='exp kernel', lw=4)\n",
    "plt.hist(m32_gp_tophat, bins=bins, histtype='step', label='matern 32 kernel', lw=4, range=(0, 3.5))\n",
    "plt.hist(sq_exp_gp_tophat, bins=bins, histtype='step', label='sq exp kernel', lw=4, range=(0, 3.5))\n",
    "plt.legend()\n",
    "plt.xlabel('Sqrt Summed Squared Error in LSST Colors')\n",
    "plt.ylabel('Count')"
   ]
  },
  {
   "cell_type": "code",
   "execution_count": null,
   "metadata": {},
   "outputs": [],
   "source": [
    "np.exp(gp_spec.params)"
   ]
  },
  {
   "cell_type": "markdown",
   "metadata": {},
   "source": [
    "### Create new templates at specific locations in color space\n",
    "\n",
    "We once again select 5000 points where `ESP` was able to recreate the colors of the catalog the best."
   ]
  },
  {
   "cell_type": "code",
   "execution_count": null,
   "metadata": {},
   "outputs": [],
   "source": [
    "min_err_idx = np.argsort(exp_gp_tophat)\n",
    "min_err_idx = min_err_idx[:5000]"
   ]
  },
  {
   "cell_type": "code",
   "execution_count": null,
   "metadata": {},
   "outputs": [],
   "source": [
    "fig = plt.figure(figsize=(18,18))\n",
    "color_labels = ['%s - %s' % (sed_min_wave[i], sed_min_wave[i+1]) for i in range(25)]\n",
    "for i in range(24):\n",
    "    col_0 = i\n",
    "    col_1 = i+1\n",
    "    fig.add_subplot(5,5,i+1)\n",
    "    plt.scatter(tophat_dc2_colors[:,col_0], tophat_dc2_colors[:,col_1], label='DC2 galaxy colors')\n",
    "    plt.scatter(tophat_gp_colors[min_err_idx,i], tophat_gp_colors[min_err_idx,i+1], alpha=0.2, label='New Template Colors w/ Exp Kernel')\n",
    "    plt.scatter(tophat_template_colors[:,col_0], tophat_template_colors[:,col_1], label='(Brown + 2 Blue) SED colors')\n",
    "    plt.xlabel(color_labels[i])\n",
    "    plt.ylabel(color_labels[i+1])\n",
    "    if i == 2:\n",
    "        plt.legend()\n",
    "plt.tight_layout()"
   ]
  },
  {
   "cell_type": "markdown",
   "metadata": {},
   "source": [
    "As before, we cluster these high-grade templates into 50 clusters in color space and randomly choose one template from each cluster and use the PCA coefficients for these points in color space to generate a new set of 50 templates to complement the (Brown + 2 Blue) templates."
   ]
  },
  {
   "cell_type": "code",
   "execution_count": null,
   "metadata": {},
   "outputs": [],
   "source": [
    "rand_state = np.random.RandomState(3213)\n",
    "kmeans = KMeans(n_clusters = 50, random_state=rand_state).fit(tophat_gp_colors[min_err_idx])"
   ]
  },
  {
   "cell_type": "code",
   "execution_count": null,
   "metadata": {},
   "outputs": [],
   "source": [
    "new_template_idx = []\n",
    "for cluster_num in range(50):\n",
    "    cluster_idx = np.where(kmeans.labels_ == cluster_num)[0]\n",
    "    new_template_idx.append(rand_state.choice(min_err_idx[cluster_idx]))"
   ]
  },
  {
   "cell_type": "code",
   "execution_count": null,
   "metadata": {},
   "outputs": [],
   "source": [
    "new_templates = gp_spec.reconstruct_spectra(10)[new_template_idx]"
   ]
  },
  {
   "cell_type": "code",
   "execution_count": null,
   "metadata": {},
   "outputs": [],
   "source": [
    "fig = plt.figure(figsize=(14, 8))\n",
    "for i in range(50):\n",
    "    plt.plot(new_pca_obj.wavelengths, new_templates[i], alpha=0.8)\n",
    "plt.xlabel('Wavelengths (nm)')\n",
    "plt.ylabel('Scaled flux')\n",
    "plt.title('50 new templates')"
   ]
  },
  {
   "cell_type": "markdown",
   "metadata": {},
   "source": [
    "Once again, we take the new templates and see where they are in color space compared to DC2 and the (Brown + 2 Blue) templates"
   ]
  },
  {
   "cell_type": "code",
   "execution_count": null,
   "metadata": {},
   "outputs": [],
   "source": [
    "lsst_tophat_template_colors = []\n",
    "for sed_template in new_templates:\n",
    "    test_sed = Sed()\n",
    "    test_sed.setSED(wavelen=new_pca_obj.wavelengths, flambda=sed_template)\n",
    "    maglist = lsst_bandpass_dict.magListForSed(test_sed)\n",
    "    colors_list = maglist[:-1] - maglist[1:]\n",
    "    lsst_tophat_template_colors.append(colors_list)"
   ]
  },
  {
   "cell_type": "code",
   "execution_count": null,
   "metadata": {},
   "outputs": [],
   "source": [
    "tophat_template_colors_lsst = np.array(lsst_tophat_template_colors)"
   ]
  },
  {
   "cell_type": "code",
   "execution_count": null,
   "metadata": {},
   "outputs": [],
   "source": [
    "color_labels = ['u-g', 'g-r', 'r-i', 'i-z', 'z-y']\n",
    "\n",
    "fig = plt.figure(figsize=(15,15))\n",
    "for i in range(4):\n",
    "    fig.add_subplot(2,2,i+1)\n",
    "    plt.scatter(lsst_dc2_colors[:,i], lsst_dc2_colors[:,i+1], label='DC2 Colors', alpha=0.4)\n",
    "    plt.scatter(tophat_template_colors_lsst[:,i], tophat_template_colors_lsst[:,i+1], label='New Template Colors', s=88)\n",
    "    plt.scatter(lsst_template_colors[:,i], lsst_template_colors[:,i+1], label='Brown SED colors')\n",
    "    plt.xlabel(color_labels[i])\n",
    "    plt.ylabel(color_labels[i+1])\n",
    "    if i == 2:\n",
    "        plt.legend()\n",
    "plt.tight_layout()\n",
    "plt.subplots_adjust(top=0.95)\n",
    "plt.suptitle('Templates from running ESP with 26 Tophat Bands')"
   ]
  },
  {
   "cell_type": "code",
   "execution_count": null,
   "metadata": {},
   "outputs": [],
   "source": [
    "### To write the new templates to file:\n",
    "# (Changed to be written in angstroms to be consistent with Brown templates given)\n",
    "template_folder = 'new_templates_tophat'\n",
    "os.mkdir(template_folder)\n",
    "sed_names = []\n",
    "spec_on = 0\n",
    "for sed_obj in new_templates:\n",
    "    with open(os.path.join(template_folder, '%i.sed' % spec_on), 'w') as f:\n",
    "        f.write('# Wavelength(angstrom)  Flambda(ergs/cm^s/s/angstrom)\\n')\n",
    "        for line_idx in range(len(new_pca_obj.wavelengths)):\n",
    "            print(10.*new_pca_obj.wavelengths[line_idx], 0.1*sed_obj[line_idx], file=f)\n",
    "    spec_on += 1"
   ]
  },
  {
   "cell_type": "code",
   "execution_count": null,
   "metadata": {},
   "outputs": [],
   "source": []
  }
 ],
 "metadata": {
  "kernelspec": {
   "display_name": "desc-stack",
   "language": "python",
   "name": "desc-stack"
  },
  "language_info": {
   "codemirror_mode": {
    "name": "ipython",
    "version": 3
   },
   "file_extension": ".py",
   "mimetype": "text/x-python",
   "name": "python",
   "nbconvert_exporter": "python",
   "pygments_lexer": "ipython3",
   "version": "3.6.2"
  }
 },
 "nbformat": 4,
 "nbformat_minor": 2
}
