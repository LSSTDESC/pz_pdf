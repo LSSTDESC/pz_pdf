{
 "cells": [
  {
   "cell_type": "markdown",
   "metadata": {},
   "source": [
    "Here we train a model on protoDC2 data via TPZ (http://matias-ck.com/mlz/tpz.html) to be used in the TXPipe framework. "
   ]
  },
  {
   "cell_type": "code",
   "execution_count": 1,
   "metadata": {},
   "outputs": [
    {
     "name": "stdout",
     "output_type": "stream",
     "text": [
      "Populating the interactive namespace from numpy and matplotlib\n"
     ]
    }
   ],
   "source": [
    "%pylab inline"
   ]
  },
  {
   "cell_type": "code",
   "execution_count": 3,
   "metadata": {},
   "outputs": [],
   "source": [
    "import os\n",
    "import pandas as pd\n",
    "\n",
    "from sklearn.model_selection import train_test_split\n",
    "from mlz.ml_codes import *"
   ]
  },
  {
   "cell_type": "code",
   "execution_count": 5,
   "metadata": {},
   "outputs": [],
   "source": [
    "## Get the data\n",
    "path = \"/global/projecta/projectdirs/lsst/groups/PZ/PhotoZDC2/protoDC2v5\"\n",
    "infile = \"protodc2_v5_ugrizy_witherrs.h5\"\n",
    "fullpath = os.path.join(path,infile)\n",
    "\n",
    "## Make a table with the desired features\n",
    "df = pd.read_hdf(fullpath)\n",
    "## df.info()\n",
    "\n",
    "input_df = pd.DataFrame()\n",
    "\n",
    "input_df['zs'] = df['redshift']\n",
    "input_df['u'] = df['scatmag_u']\n",
    "input_df['g'] = df['scatmag_g']\n",
    "input_df['r'] = df['scatmag_r']\n",
    "input_df['i'] = df['scatmag_i']\n",
    "input_df['z'] = df['scatmag_z']\n",
    "input_df['y'] = df['scatmag_y']\n",
    "\n",
    "u_g = df['scatmag_u'] - df['scatmag_g']\n",
    "g_r = df['scatmag_g'] - df['scatmag_r']\n",
    "r_i = df['scatmag_r'] - df['scatmag_i']\n",
    "i_z = df['scatmag_i'] - df['scatmag_z']\n",
    "z_y = df['scatmag_z'] - df['scatmag_y']\n",
    "\n",
    "input_df['u-g'] = u_g\n",
    "input_df['g-r'] = g_r\n",
    "input_df['r-i'] = r_i\n",
    "input_df['i-z'] = i_z\n",
    "input_df['z-y'] = z_y"
   ]
  },
  {
   "cell_type": "code",
   "execution_count": 7,
   "metadata": {},
   "outputs": [],
   "source": [
    "d = {'u': {'ind': 0}, 'g': {'ind': 1}, 'r': {'ind': 2}, 'i': {'ind': 3}, 'z': {'ind': 4}, 'z': {'ind': 4}, \n",
    "     'u-g': {'ind': 5}, 'g-r': {'ind': 6}, 'r-i': {'ind': 6}, 'i-z': {'ind': 6}, 'z-y': {'ind': 6}}\n",
    "\n",
    "features = ['mag_u_lsst','mag_g_lsst','mag_r_lsst','mag_i_lsst','mag_z_lsst', 'mag_y_lsst', 'mag_u_lsst-mag_g_lsst', \n",
    "            'mag_g_lsst-mag_r_lsst', 'mag_r_lsst-mag_i_lsst', 'mag_i_lsst-mag_z_lsst', 'mag_z_lsst-mag_y_lsst']"
   ]
  },
  {
   "cell_type": "code",
   "execution_count": 8,
   "metadata": {},
   "outputs": [
    {
     "name": "stdout",
     "output_type": "stream",
     "text": [
      "(10972023, 11) (10972023,)\n"
     ]
    }
   ],
   "source": [
    "## Split the data into training and test samples, and separate the features from the redshift\n",
    "seed = 123\n",
    "train, test = train_test_split(input_df, test_size=0.4, random_state=seed)\n",
    "train_cols_mags = train.loc[:,'u':'z-y']\n",
    "train_z = train.loc[:,'zs']\n",
    "\n",
    "np.savetxt('../repos/MLZ/mlz/test/protoDC2.test', test.values)\n",
    "np.savetxt('../repos/MLZ/mlz/test/protoDC2.train', train.values)\n",
    "\n",
    "print(train_cols_mags.shape, train_z.shape)"
   ]
  },
  {
   "cell_type": "code",
   "execution_count": null,
   "metadata": {},
   "outputs": [],
   "source": [
    "## Create a forest from a set of decision trees \n",
    "n_trees = 10\n",
    "Trees = [TPZ.Rtree(train_cols_mags.as_matrix()[::100], train_z.as_matrix()[::100], minleaf=30, mstar=3, dict_dim=d, \n",
    "                   forest='yes') for i in range(n_trees)]\n",
    "\n",
    "save('../repos/MLZ/mlz/test/protoDC2_trees_109721.npy', [features, Trees])\n",
    "print(len(train_cols_mags.as_matrix()[::100]))"
   ]
  },
  {
   "cell_type": "code",
   "execution_count": null,
   "metadata": {},
   "outputs": [],
   "source": []
  }
 ],
 "metadata": {
  "kernelspec": {
   "display_name": "desc-python",
   "language": "python",
   "name": "desc-python"
  },
  "language_info": {
   "codemirror_mode": {
    "name": "ipython",
    "version": 3
   },
   "file_extension": ".py",
   "mimetype": "text/x-python",
   "name": "python",
   "nbconvert_exporter": "python",
   "pygments_lexer": "ipython3",
   "version": "3.6.2"
  }
 },
 "nbformat": 4,
 "nbformat_minor": 2
}
