{
 "cells": [
  {
   "cell_type": "markdown",
   "metadata": {},
   "source": [
    "# TPZ trees with protoDC2 data"
   ]
  },
  {
   "cell_type": "markdown",
   "metadata": {},
   "source": [
    "By: Bela Abolfathi & Will Hartley\n",
    "\n",
    "This notebook came out of work done during the 2018 LSST Sprint Week in Edinburgh. It goes through how to generate TPZ trees (http://matias-ck.com/mlz/tpz.html) using protoDC2 data to be used in the TXPipe framework. There are two different approaches to generate trees. The first trains a model using galaxies that have been randomly flagged for training ('training_flag' == True), while the second uses non-trivial training data that have a flat histogram in i-band magnitude, intended to give an example of 'bad' photo-z's. For more information on how this pessimissistic data set was generated, see this notebook by Sam Schmidt: https://github.com/LSSTDESC/pz_pdf/blob/u/sschmidt23/uniform_train/notebooks/protoDC2v5_uniform_training_selection.ipynb"
   ]
  },
  {
   "cell_type": "code",
   "execution_count": 1,
   "metadata": {
    "collapsed": false
   },
   "outputs": [
    {
     "name": "stdout",
     "output_type": "stream",
     "text": [
      "Populating the interactive namespace from numpy and matplotlib\n"
     ]
    }
   ],
   "source": [
    "%pylab inline"
   ]
  },
  {
   "cell_type": "code",
   "execution_count": 2,
   "metadata": {
    "collapsed": false
   },
   "outputs": [],
   "source": [
    "import os\n",
    "import pandas as pd\n",
    "import time\n",
    "\n",
    "from mlz_desc.ml_codes import *"
   ]
  },
  {
   "cell_type": "markdown",
   "metadata": {},
   "source": [
    "### Read in the data"
   ]
  },
  {
   "cell_type": "code",
   "execution_count": 19,
   "metadata": {
    "collapsed": false
   },
   "outputs": [
    {
     "name": "stdout",
     "output_type": "stream",
     "text": [
      "All data: 18286706 galaxies, flat data: 107327 galaxies\n"
     ]
    },
    {
     "data": {
      "image/png": "[encoded data removed]",
      "text/plain": [
       "<matplotlib.figure.Figure at 0x1981736a0>"
      ]
     },
     "metadata": {},
     "output_type": "display_data"
    }
   ],
   "source": [
    "path = \"/global/projecta/projectdirs/lsst/groups/PZ/PhotoZDC2/protoDC2v5\"\n",
    "\n",
    "## Full data set\n",
    "all_file = \"protodc2_v5_ugrizy_witherrs.h5\"\n",
    "all_path = os.path.join(path, all_file)\n",
    "df = pd.read_hdf(all_path)\n",
    "\n",
    "\n",
    "## Flat training data set\n",
    "flat_file = \"protodc2_v5_ugrizy_witherrs_flat_training.h5\"\n",
    "flat_path = os.path.join(path, flat_file)\n",
    "flat_df = pd.read_hdf(flat_path)\n",
    "\n",
    "## Plot distribution in i-band\n",
    "print('All data: {} galaxies, flat data: {} galaxies'.format(len(df), len(flat_df)))\n",
    "plt.figure(figsize=(10,7))\n",
    "plt.hist(df['scatmag_i'], bins=35, range=(18,28), label='all')\n",
    "plt.hist(flat_df['scatmag_i'], bins=35, range=(18,28), label='flat training')\n",
    "plt.yscale('log')\n",
    "plt.xlabel('i-band magnitude',fontsize=15)\n",
    "plt.ylabel('Number',fontsize=15)\n",
    "plt.legend(loc='upper left',fontsize=12)\n",
    "plt.show()"
   ]
  },
  {
   "cell_type": "markdown",
   "metadata": {},
   "source": [
    "#### Set the number trees and minimum leaf size based on what was used in Section 3.2.8 of the DC1 paper:\n",
    "\n",
    "    In the present work, the LSST magnitudes u, g, r, i and colors u−g, g−r, r−i, i−z, z−y and their associated \n",
    "    errors are used in the process of growing 100 trees with a minimum leaf size of 5."
   ]
  },
  {
   "cell_type": "code",
   "execution_count": 4,
   "metadata": {
    "collapsed": true
   },
   "outputs": [],
   "source": [
    "n_trees = 100\n",
    "minleaf = 5"
   ]
  },
  {
   "cell_type": "code",
   "execution_count": 15,
   "metadata": {
    "collapsed": true
   },
   "outputs": [],
   "source": [
    "def prepare_df(df):\n",
    "    \n",
    "    '''This function makes a table that includes a subset of the \n",
    "    features in the given data set.'''\n",
    "    \n",
    "    input_df = pd.DataFrame()\n",
    "\n",
    "    input_df['zs'] = df['redshift']\n",
    "    input_df['u'] = df['scatmag_u']\n",
    "    input_df['g'] = df['scatmag_g']\n",
    "    input_df['r'] = df['scatmag_r']\n",
    "    input_df['i'] = df['scatmag_i']\n",
    "\n",
    "    u_g = df['scatmag_u'] - df['scatmag_g']\n",
    "    g_r = df['scatmag_g'] - df['scatmag_r']\n",
    "    r_i = df['scatmag_r'] - df['scatmag_i']\n",
    "    i_z = df['scatmag_i'] - df['scatmag_z']\n",
    "    z_y = df['scatmag_z'] - df['scatmag_y']\n",
    "\n",
    "    input_df['u-g'] = u_g\n",
    "    input_df['g-r'] = g_r\n",
    "    input_df['r-i'] = r_i\n",
    "    input_df['i-z'] = i_z\n",
    "    input_df['z-y'] = z_y\n",
    "    \n",
    "    return(input_df)"
   ]
  },
  {
   "cell_type": "markdown",
   "metadata": {},
   "source": [
    "#### Additional parameters used to run TPZ and save the output"
   ]
  },
  {
   "cell_type": "code",
   "execution_count": 6,
   "metadata": {
    "collapsed": true
   },
   "outputs": [],
   "source": [
    "save_path = \"data/\"\n",
    "\n",
    "d = {'u': {'ind': 0}, 'g': {'ind': 1}, 'r': {'ind': 2}, 'i': {'ind': 3}, 'u-g': {'ind': 5}, 'g-r': {'ind': 6}, \n",
    "     'r-i': {'ind': 6}, 'i-z': {'ind': 6}, 'z-y': {'ind': 6}}\n",
    "\n",
    "columns = ['mag_u_lsst','mag_g_lsst','mag_r_lsst','mag_i_lsst', 'mag_u_lsst-mag_g_lsst', 'mag_g_lsst-mag_r_lsst', \n",
    "            'mag_r_lsst-mag_i_lsst', 'mag_i_lsst-mag_z_lsst', 'mag_z_lsst-mag_y_lsst']"
   ]
  },
  {
   "cell_type": "markdown",
   "metadata": {},
   "source": [
    "## Model 1: train on all data"
   ]
  },
  {
   "cell_type": "code",
   "execution_count": 17,
   "metadata": {
    "collapsed": false
   },
   "outputs": [
    {
     "name": "stdout",
     "output_type": "stream",
     "text": [
      "Number of galaxies in training set: 3899\n"
     ]
    }
   ],
   "source": [
    "## Select data flagged for training\n",
    "training = df['training_flag'] == True\n",
    "train_df = prepare_df(df[training])\n",
    "## Separate features from labels\n",
    "features, redshifts = train_df.loc[:,'u':'z-y'], train_df.loc[:,'zs']\n",
    "print('Number of galaxies in training set: {}'.format(len(features.as_matrix()[::100])))"
   ]
  },
  {
   "cell_type": "code",
   "execution_count": 8,
   "metadata": {
    "collapsed": false
   },
   "outputs": [
    {
     "name": "stdout",
     "output_type": "stream",
     "text": [
      "532.5393090248108\n"
     ]
    }
   ],
   "source": [
    "## Create a forest from a set of decision trees and save\n",
    "start_time = time.time()\n",
    "Trees = [TPZ.Rtree(features.as_matrix()[::100], redshifts.as_matrix()[::100], minleaf=minleaf, mstar=3, dict_dim=d, \n",
    "                   forest='yes') for i in range(n_trees)]\n",
    "print(time.time()-start_time)"
   ]
  },
  {
   "cell_type": "code",
   "execution_count": 10,
   "metadata": {
    "collapsed": false
   },
   "outputs": [],
   "source": [
    "save(os.path.join(save_path, 'protoDC2_trees_3899.npy'), [columns, Trees])"
   ]
  },
  {
   "cell_type": "markdown",
   "metadata": {},
   "source": [
    "## Model 2: train on flat data"
   ]
  },
  {
   "cell_type": "code",
   "execution_count": 16,
   "metadata": {
    "collapsed": false
   },
   "outputs": [
    {
     "name": "stdout",
     "output_type": "stream",
     "text": [
      "Number of galaxies in training set: 3571\n"
     ]
    }
   ],
   "source": [
    "flat_train = flat_df['training_flag'] == True \n",
    "flat_train_df = prepare_df(flat_df[flat_train])\n",
    "flat_features, flat_redshifts = flat_train_df.loc[:,'u':'z-y'], flat_train_df.loc[:,'zs']\n",
    "print('Number of galaxies in training set: {}'.format(len(flat_features.as_matrix()[::3])))"
   ]
  },
  {
   "cell_type": "code",
   "execution_count": 12,
   "metadata": {
    "collapsed": false
   },
   "outputs": [
    {
     "name": "stdout",
     "output_type": "stream",
     "text": [
      "456.0381100177765\n"
     ]
    }
   ],
   "source": [
    "## Create a forest from a set of decision trees \n",
    "start_time = time.time()\n",
    "Trees = [TPZ.Rtree(flat_features.as_matrix()[::3], flat_redshifts.as_matrix()[::3], minleaf=minleaf, mstar=3, dict_dim=d, \n",
    "                   forest='yes') for i in range(n_trees)]\n",
    "print(time.time()-start_time)"
   ]
  },
  {
   "cell_type": "code",
   "execution_count": 13,
   "metadata": {
    "collapsed": true
   },
   "outputs": [],
   "source": [
    "save(os.path.join(save_path, 'protoDC2_flat_training_trees_3571.npy'), [columns, Trees])"
   ]
  },
  {
   "cell_type": "code",
   "execution_count": null,
   "metadata": {
    "collapsed": true
   },
   "outputs": [],
   "source": []
  }
 ],
 "metadata": {
  "anaconda-cloud": {},
  "kernelspec": {
   "display_name": "Python [default]",
   "language": "python",
   "name": "python3"
  },
  "language_info": {
   "codemirror_mode": {
    "name": "ipython",
    "version": 3
   },
   "file_extension": ".py",
   "mimetype": "text/x-python",
   "name": "python",
   "nbconvert_exporter": "python",
   "pygments_lexer": "ipython3",
   "version": "3.5.1"
  }
 },
 "nbformat": 4,
 "nbformat_minor": 2
}
