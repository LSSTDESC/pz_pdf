{
 "cells": [
  {
   "cell_type": "markdown",
   "metadata": {},
   "source": [
    "# TPZ on protoDC2"
   ]
  },
  {
   "cell_type": "markdown",
   "metadata": {},
   "source": [
    "By: Bela Abolfathi & Will Hartley\n",
    "\n",
    "Here we TPZ trees on protoDC2 data (http://matias-ck.com/mlz/tpz.html) to be used in the TXPipe framework. The first model is trained on an optimisitc sample, while the second model has been trained on more pessimisstic data - that is, data selected from protoDC2 made to have a flat histogram in i-band magnitude. "
   ]
  },
  {
   "cell_type": "code",
   "execution_count": 1,
   "metadata": {},
   "outputs": [
    {
     "name": "stdout",
     "output_type": "stream",
     "text": [
      "Populating the interactive namespace from numpy and matplotlib\n"
     ]
    }
   ],
   "source": [
    "%pylab inline"
   ]
  },
  {
   "cell_type": "code",
   "execution_count": 2,
   "metadata": {},
   "outputs": [],
   "source": [
    "import os\n",
    "import pandas as pd\n",
    "\n",
    "from sklearn.model_selection import train_test_split\n",
    "from mlz.ml_codes import *"
   ]
  },
  {
   "cell_type": "code",
   "execution_count": 3,
   "metadata": {},
   "outputs": [],
   "source": [
    "def prepare_df(df):\n",
    "    \n",
    "    input_df = pd.DataFrame()\n",
    "\n",
    "    input_df['zs'] = df['redshift']\n",
    "    input_df['u'] = df['scatmag_u']\n",
    "    input_df['g'] = df['scatmag_g']\n",
    "    input_df['r'] = df['scatmag_r']\n",
    "    input_df['i'] = df['scatmag_i']\n",
    "    input_df['z'] = df['scatmag_z']\n",
    "    input_df['y'] = df['scatmag_y']\n",
    "\n",
    "    u_g = df['scatmag_u'] - df['scatmag_g']\n",
    "    g_r = df['scatmag_g'] - df['scatmag_r']\n",
    "    r_i = df['scatmag_r'] - df['scatmag_i']\n",
    "    i_z = df['scatmag_i'] - df['scatmag_z']\n",
    "    z_y = df['scatmag_z'] - df['scatmag_y']\n",
    "\n",
    "    input_df['u-g'] = u_g\n",
    "    input_df['g-r'] = g_r\n",
    "    input_df['r-i'] = r_i\n",
    "    input_df['i-z'] = i_z\n",
    "    input_df['z-y'] = z_y\n",
    "    \n",
    "    return(input_df)\n",
    "\n",
    "def prepare_training_data(df, seed, test_size):\n",
    "    ## Split the data into training and test samples, and separate the features from the redshift\n",
    "    train, test = train_test_split(df, test_size=test_size, random_state=seed)\n",
    "    return(train.loc[:,'u':'z-y'], train.loc[:,'zs'])"
   ]
  },
  {
   "cell_type": "code",
   "execution_count": 4,
   "metadata": {},
   "outputs": [],
   "source": [
    "seed = 123\n",
    "save_path = \"data/\"\n",
    "\n",
    "d = {'u': {'ind': 0}, 'g': {'ind': 1}, 'r': {'ind': 2}, 'i': {'ind': 3}, 'z': {'ind': 4}, 'z': {'ind': 4}, \n",
    "     'u-g': {'ind': 5}, 'g-r': {'ind': 6}, 'r-i': {'ind': 6}, 'i-z': {'ind': 6}, 'z-y': {'ind': 6}}\n",
    "\n",
    "features = ['mag_u_lsst','mag_g_lsst','mag_r_lsst','mag_i_lsst','mag_z_lsst', 'mag_y_lsst', 'mag_u_lsst-mag_g_lsst', \n",
    "            'mag_g_lsst-mag_r_lsst', 'mag_r_lsst-mag_i_lsst', 'mag_i_lsst-mag_z_lsst', 'mag_z_lsst-mag_y_lsst']"
   ]
  },
  {
   "cell_type": "markdown",
   "metadata": {},
   "source": [
    "## Model 1"
   ]
  },
  {
   "cell_type": "code",
   "execution_count": 5,
   "metadata": {},
   "outputs": [],
   "source": [
    "## Get the data\n",
    "path = \"/global/projecta/projectdirs/lsst/groups/PZ/PhotoZDC2/protoDC2v5\"\n",
    "infile = \"protodc2_v5_ugrizy_witherrs.h5\"\n",
    "fullpath = os.path.join(path,infile)\n",
    "\n",
    "## Put it in a pandas data frame\n",
    "df = pd.read_hdf(fullpath)\n",
    "## df.info()"
   ]
  },
  {
   "cell_type": "code",
   "execution_count": 6,
   "metadata": {},
   "outputs": [],
   "source": [
    "test_size = 0.4\n",
    "input_df = prepare_df(df)\n",
    "cols_mags, redshifts = prepare_training_data(input_df, seed, test_size)"
   ]
  },
  {
   "cell_type": "code",
   "execution_count": 8,
   "metadata": {},
   "outputs": [
    {
     "name": "stdout",
     "output_type": "stream",
     "text": [
      "109721\n"
     ]
    }
   ],
   "source": [
    "## Create a forest from a set of decision trees and save\n",
    "n_trees = 10\n",
    "Trees = [TPZ.Rtree(cols_mags.as_matrix()[::100], redshifts.as_matrix()[::100], minleaf=30, mstar=3, dict_dim=d, \n",
    "                   forest='yes') for i in range(n_trees)]\n",
    "print(len(cols_mags.as_matrix()[::100]))\n",
    "save(os.path.join(save_path, 'protoDC2_trees_109721.npy'), [features, Trees])"
   ]
  },
  {
   "cell_type": "code",
   "execution_count": 9,
   "metadata": {},
   "outputs": [
    {
     "data": {
      "image/png": "[encoded data removed]",
      "text/plain": [
       "<matplotlib.figure.Figure at 0x2b5103d78908>"
      ]
     },
     "metadata": {},
     "output_type": "display_data"
    }
   ],
   "source": [
    "plt.hist(input_df['zs'], bins=35)\n",
    "plt.show()"
   ]
  },
  {
   "cell_type": "markdown",
   "metadata": {},
   "source": [
    "## Model 2"
   ]
  },
  {
   "cell_type": "markdown",
   "metadata": {},
   "source": [
    "Now we want to train on a pessimisstic sample generated by Sam Schmidt:  \n",
    "https://github.com/LSSTDESC/pz_pdf/blob/u/sschmidt23/uniform_train/notebooks/protoDC2v5_uniform_training_selection.ipynb\n",
    "\n",
    "Data from: /global/projecta/projectdirs/lsst/groups/PZ/PhotoZDC2/protoDC2v5/protodc2_v5_ugrizy_witherrs_flat_training.h5"
   ]
  },
  {
   "cell_type": "code",
   "execution_count": 10,
   "metadata": {},
   "outputs": [],
   "source": [
    "infile = \"protodc2_v5_ugrizy_witherrs_flat_training.h5\"\n",
    "fullpath = os.path.join(path,infile)\n",
    "flat_df = pd.read_hdf(fullpath)\n",
    "## flat_df.info()\n",
    "\n",
    "## Select objects from the flat histogram sample\n",
    "flat_train = flat_df['flat_training_flag'] == True\n",
    "flat_train_df = prepare_df(flat_df[flat_train])"
   ]
  },
  {
   "cell_type": "code",
   "execution_count": 11,
   "metadata": {},
   "outputs": [
    {
     "data": {
      "image/png": "[encoded data removed]",
      "text/plain": [
       "<matplotlib.figure.Figure at 0x2b50cd043940>"
      ]
     },
     "metadata": {},
     "output_type": "display_data"
    }
   ],
   "source": [
    "plt.hist(flat_df[flat_train]['scatmag_i'], bins=35, range=(18., 28.))\n",
    "plt.show()"
   ]
  },
  {
   "cell_type": "code",
   "execution_count": 12,
   "metadata": {},
   "outputs": [],
   "source": [
    "test_size = 0.2\n",
    "cols_mags, redshifts = prepare_training_data(flat_train_df, seed, test_size)"
   ]
  },
  {
   "cell_type": "code",
   "execution_count": 13,
   "metadata": {},
   "outputs": [
    {
     "name": "stdout",
     "output_type": "stream",
     "text": [
      "85861\n"
     ]
    }
   ],
   "source": [
    "## Create a forest from a set of decision trees \n",
    "n_trees = 10\n",
    "Trees = [TPZ.Rtree(cols_mags.as_matrix(), redshifts.as_matrix(), minleaf=30, mstar=3, dict_dim=d, \n",
    "                   forest='yes') for i in range(n_trees)]\n",
    "print(len(cols_mags.as_matrix()))\n",
    "save(os.path.join(save_path, 'protoDC2_flat_training_trees_85861.npy'), [features, Trees])"
   ]
  },
  {
   "cell_type": "code",
   "execution_count": null,
   "metadata": {},
   "outputs": [],
   "source": []
  }
 ],
 "metadata": {
  "kernelspec": {
   "display_name": "desc-python",
   "language": "python",
   "name": "desc-python"
  },
  "language_info": {
   "codemirror_mode": {
    "name": "ipython",
    "version": 3
   },
   "file_extension": ".py",
   "mimetype": "text/x-python",
   "name": "python",
   "nbconvert_exporter": "python",
   "pygments_lexer": "ipython3",
   "version": "3.6.2"
  }
 },
 "nbformat": 4,
 "nbformat_minor": 2
}
