{
 "cells": [
  {
   "cell_type": "code",
   "execution_count": 1,
   "metadata": {},
   "outputs": [],
   "source": [
    "import sys, os\n",
    "import numpy as np\n",
    "import matplotlib.pyplot as plt\n",
    "import scipy.interpolate \n",
    "import pandas as pd\n",
    "%matplotlib inline"
   ]
  },
  {
   "cell_type": "markdown",
   "metadata": {},
   "source": [
    "Set up the paths to the protoDC2v5 data and read the hdf5 file into a pandas dataframe"
   ]
  },
  {
   "cell_type": "code",
   "execution_count": 2,
   "metadata": {},
   "outputs": [],
   "source": [
    "path = \"/global/projecta/projectdirs/lsst/groups/PZ/PhotoZDC2/protoDC2v5\"\n",
    "#path = \"/global/u2/s/schmidt9/PZDC2/pz_pdf/notebooks\"\n",
    "infile = \"protodc2_v5_ugrizy_witherrs.h5\"\n",
    "#infile = \"protodc2_v5_ugrizy_witherrs_training.h5\" #this one for just the ~400k training galaxies\n",
    "fullpath = os.path.join(path,infile)"
   ]
  },
  {
   "cell_type": "code",
   "execution_count": 3,
   "metadata": {},
   "outputs": [],
   "source": [
    "df = pd.read_hdf(fullpath)"
   ]
  },
  {
   "cell_type": "code",
   "execution_count": 4,
   "metadata": {},
   "outputs": [
    {
     "data": {
      "text/html": [
       "<div>\n",
       "<style>\n",
       "    .dataframe thead tr:only-child th {\n",
       "        text-align: right;\n",
       "    }\n",
       "\n",
       "    .dataframe thead th {\n",
       "        text-align: left;\n",
       "    }\n",
       "\n",
       "    .dataframe tbody tr th {\n",
       "        vertical-align: top;\n",
       "    }\n",
       "</style>\n",
       "<table border=\"1\" class=\"dataframe\">\n",
       "  <thead>\n",
       "    <tr style=\"text-align: right;\">\n",
       "      <th></th>\n",
       "      <th>LSST_filters/magnitude:LSST_u:observed:dustAtlas</th>\n",
       "      <th>LSST_filters/magnitude:LSST_g:observed:dustAtlas</th>\n",
       "      <th>LSST_filters/magnitude:LSST_r:observed:dustAtlas</th>\n",
       "      <th>LSST_filters/magnitude:LSST_i:observed:dustAtlas</th>\n",
       "      <th>LSST_filters/magnitude:LSST_z:observed:dustAtlas</th>\n",
       "      <th>LSST_filters/magnitude:LSST_y:observed:dustAtlas</th>\n",
       "      <th>redshift</th>\n",
       "      <th>ra</th>\n",
       "      <th>dec</th>\n",
       "      <th>galaxyID</th>\n",
       "      <th>...</th>\n",
       "      <th>scaterr_g</th>\n",
       "      <th>scatmag_r</th>\n",
       "      <th>scaterr_r</th>\n",
       "      <th>scatmag_i</th>\n",
       "      <th>scaterr_i</th>\n",
       "      <th>scatmag_z</th>\n",
       "      <th>scaterr_z</th>\n",
       "      <th>scatmag_y</th>\n",
       "      <th>scaterr_y</th>\n",
       "      <th>training_flag</th>\n",
       "    </tr>\n",
       "  </thead>\n",
       "  <tbody>\n",
       "    <tr>\n",
       "      <th>0</th>\n",
       "      <td>21.234911</td>\n",
       "      <td>20.090427</td>\n",
       "      <td>19.677958</td>\n",
       "      <td>19.508871</td>\n",
       "      <td>19.484373</td>\n",
       "      <td>19.435213</td>\n",
       "      <td>0.024627</td>\n",
       "      <td>-0.213268</td>\n",
       "      <td>-1.780913</td>\n",
       "      <td>0</td>\n",
       "      <td>...</td>\n",
       "      <td>0.005042</td>\n",
       "      <td>19.682526</td>\n",
       "      <td>0.005018</td>\n",
       "      <td>19.511381</td>\n",
       "      <td>0.005024</td>\n",
       "      <td>19.489855</td>\n",
       "      <td>0.005056</td>\n",
       "      <td>19.441219</td>\n",
       "      <td>0.005206</td>\n",
       "      <td>False</td>\n",
       "    </tr>\n",
       "    <tr>\n",
       "      <th>1</th>\n",
       "      <td>21.839048</td>\n",
       "      <td>20.748993</td>\n",
       "      <td>20.418985</td>\n",
       "      <td>20.241453</td>\n",
       "      <td>20.190296</td>\n",
       "      <td>20.152172</td>\n",
       "      <td>0.024598</td>\n",
       "      <td>-1.293915</td>\n",
       "      <td>-2.062044</td>\n",
       "      <td>1</td>\n",
       "      <td>...</td>\n",
       "      <td>0.005106</td>\n",
       "      <td>20.422693</td>\n",
       "      <td>0.005048</td>\n",
       "      <td>20.244062</td>\n",
       "      <td>0.005066</td>\n",
       "      <td>20.176054</td>\n",
       "      <td>0.005158</td>\n",
       "      <td>20.159077</td>\n",
       "      <td>0.005648</td>\n",
       "      <td>False</td>\n",
       "    </tr>\n",
       "    <tr>\n",
       "      <th>2</th>\n",
       "      <td>21.023718</td>\n",
       "      <td>20.142702</td>\n",
       "      <td>19.991816</td>\n",
       "      <td>19.915903</td>\n",
       "      <td>19.910103</td>\n",
       "      <td>19.878025</td>\n",
       "      <td>0.024227</td>\n",
       "      <td>0.681523</td>\n",
       "      <td>-1.484340</td>\n",
       "      <td>2</td>\n",
       "      <td>...</td>\n",
       "      <td>0.005046</td>\n",
       "      <td>20.002113</td>\n",
       "      <td>0.005027</td>\n",
       "      <td>19.907297</td>\n",
       "      <td>0.005041</td>\n",
       "      <td>19.912237</td>\n",
       "      <td>0.005105</td>\n",
       "      <td>19.876188</td>\n",
       "      <td>0.005412</td>\n",
       "      <td>False</td>\n",
       "    </tr>\n",
       "    <tr>\n",
       "      <th>3</th>\n",
       "      <td>17.604139</td>\n",
       "      <td>16.012825</td>\n",
       "      <td>15.264262</td>\n",
       "      <td>14.847938</td>\n",
       "      <td>14.583278</td>\n",
       "      <td>14.419316</td>\n",
       "      <td>0.024483</td>\n",
       "      <td>-0.304187</td>\n",
       "      <td>-0.923260</td>\n",
       "      <td>3</td>\n",
       "      <td>...</td>\n",
       "      <td>0.005001</td>\n",
       "      <td>15.266548</td>\n",
       "      <td>0.005000</td>\n",
       "      <td>14.850696</td>\n",
       "      <td>0.005000</td>\n",
       "      <td>14.585126</td>\n",
       "      <td>0.005000</td>\n",
       "      <td>14.416851</td>\n",
       "      <td>0.005001</td>\n",
       "      <td>False</td>\n",
       "    </tr>\n",
       "    <tr>\n",
       "      <th>4</th>\n",
       "      <td>19.315104</td>\n",
       "      <td>18.073452</td>\n",
       "      <td>17.455185</td>\n",
       "      <td>17.079489</td>\n",
       "      <td>16.859879</td>\n",
       "      <td>16.746384</td>\n",
       "      <td>0.024451</td>\n",
       "      <td>-0.261973</td>\n",
       "      <td>-0.874825</td>\n",
       "      <td>4</td>\n",
       "      <td>...</td>\n",
       "      <td>0.005004</td>\n",
       "      <td>17.459517</td>\n",
       "      <td>0.005001</td>\n",
       "      <td>17.078701</td>\n",
       "      <td>0.005002</td>\n",
       "      <td>16.857254</td>\n",
       "      <td>0.005002</td>\n",
       "      <td>16.738359</td>\n",
       "      <td>0.005006</td>\n",
       "      <td>False</td>\n",
       "    </tr>\n",
       "  </tbody>\n",
       "</table>\n",
       "<p>5 rows × 23 columns</p>\n",
       "</div>"
      ],
      "text/plain": [
       "   LSST_filters/magnitude:LSST_u:observed:dustAtlas  \\\n",
       "0                                         21.234911   \n",
       "1                                         21.839048   \n",
       "2                                         21.023718   \n",
       "3                                         17.604139   \n",
       "4                                         19.315104   \n",
       "\n",
       "   LSST_filters/magnitude:LSST_g:observed:dustAtlas  \\\n",
       "0                                         20.090427   \n",
       "1                                         20.748993   \n",
       "2                                         20.142702   \n",
       "3                                         16.012825   \n",
       "4                                         18.073452   \n",
       "\n",
       "   LSST_filters/magnitude:LSST_r:observed:dustAtlas  \\\n",
       "0                                         19.677958   \n",
       "1                                         20.418985   \n",
       "2                                         19.991816   \n",
       "3                                         15.264262   \n",
       "4                                         17.455185   \n",
       "\n",
       "   LSST_filters/magnitude:LSST_i:observed:dustAtlas  \\\n",
       "0                                         19.508871   \n",
       "1                                         20.241453   \n",
       "2                                         19.915903   \n",
       "3                                         14.847938   \n",
       "4                                         17.079489   \n",
       "\n",
       "   LSST_filters/magnitude:LSST_z:observed:dustAtlas  \\\n",
       "0                                         19.484373   \n",
       "1                                         20.190296   \n",
       "2                                         19.910103   \n",
       "3                                         14.583278   \n",
       "4                                         16.859879   \n",
       "\n",
       "   LSST_filters/magnitude:LSST_y:observed:dustAtlas  redshift        ra  \\\n",
       "0                                         19.435213  0.024627 -0.213268   \n",
       "1                                         20.152172  0.024598 -1.293915   \n",
       "2                                         19.878025  0.024227  0.681523   \n",
       "3                                         14.419316  0.024483 -0.304187   \n",
       "4                                         16.746384  0.024451 -0.261973   \n",
       "\n",
       "        dec  galaxyID      ...        scaterr_g  scatmag_r  scaterr_r  \\\n",
       "0 -1.780913         0      ...         0.005042  19.682526   0.005018   \n",
       "1 -2.062044         1      ...         0.005106  20.422693   0.005048   \n",
       "2 -1.484340         2      ...         0.005046  20.002113   0.005027   \n",
       "3 -0.923260         3      ...         0.005001  15.266548   0.005000   \n",
       "4 -0.874825         4      ...         0.005004  17.459517   0.005001   \n",
       "\n",
       "   scatmag_i  scaterr_i  scatmag_z  scaterr_z  scatmag_y  scaterr_y  \\\n",
       "0  19.511381   0.005024  19.489855   0.005056  19.441219   0.005206   \n",
       "1  20.244062   0.005066  20.176054   0.005158  20.159077   0.005648   \n",
       "2  19.907297   0.005041  19.912237   0.005105  19.876188   0.005412   \n",
       "3  14.850696   0.005000  14.585126   0.005000  14.416851   0.005001   \n",
       "4  17.078701   0.005002  16.857254   0.005002  16.738359   0.005006   \n",
       "\n",
       "   training_flag  \n",
       "0          False  \n",
       "1          False  \n",
       "2          False  \n",
       "3          False  \n",
       "4          False  \n",
       "\n",
       "[5 rows x 23 columns]"
      ]
     },
     "execution_count": 4,
     "metadata": {},
     "output_type": "execute_result"
    }
   ],
   "source": [
    "df.head()"
   ]
  },
  {
   "cell_type": "code",
   "execution_count": 5,
   "metadata": {},
   "outputs": [
    {
     "name": "stdout",
     "output_type": "stream",
     "text": [
      "<class 'pandas.core.frame.DataFrame'>\n",
      "Int64Index: 18286706 entries, 0 to 18286705\n",
      "Data columns (total 23 columns):\n",
      "LSST_filters/magnitude:LSST_u:observed:dustAtlas    float32\n",
      "LSST_filters/magnitude:LSST_g:observed:dustAtlas    float32\n",
      "LSST_filters/magnitude:LSST_r:observed:dustAtlas    float32\n",
      "LSST_filters/magnitude:LSST_i:observed:dustAtlas    float32\n",
      "LSST_filters/magnitude:LSST_z:observed:dustAtlas    float32\n",
      "LSST_filters/magnitude:LSST_y:observed:dustAtlas    float32\n",
      "redshift                                            float64\n",
      "ra                                                  float32\n",
      "dec                                                 float32\n",
      "galaxyID                                            int64\n",
      "scatmag_u                                           float32\n",
      "scaterr_u                                           float32\n",
      "scatmag_g                                           float32\n",
      "scaterr_g                                           float32\n",
      "scatmag_r                                           float32\n",
      "scaterr_r                                           float32\n",
      "scatmag_i                                           float32\n",
      "scaterr_i                                           float32\n",
      "scatmag_z                                           float32\n",
      "scaterr_z                                           float32\n",
      "scatmag_y                                           float32\n",
      "scaterr_y                                           float32\n",
      "training_flag                                       bool\n",
      "dtypes: bool(1), float32(20), float64(1), int64(1)\n",
      "memory usage: 1.8 GB\n"
     ]
    }
   ],
   "source": [
    "df.info()"
   ]
  },
  {
   "cell_type": "markdown",
   "metadata": {},
   "source": [
    "Plot a histogram of the apparent magnitude number counts.  We want to select a flat/Uniform set of galaxies in terms of apparent i-band magnitude.  The total number of galaxies that we want in the training sample is defined as N_tot.  We will also define the number of bins and the range over which we want to calculate the histogram"
   ]
  },
  {
   "cell_type": "code",
   "execution_count": 6,
   "metadata": {},
   "outputs": [],
   "source": [
    "N_tot = 105000\n",
    "N_bins = 20\n",
    "i_min = 18.\n",
    "i_max = 25."
   ]
  },
  {
   "cell_type": "code",
   "execution_count": 7,
   "metadata": {},
   "outputs": [
    {
     "data": {
      "image/png": "[encoded data removed]",
      "text/plain": [
       "<matplotlib.figure.Figure at 0x2b10b906c320>"
      ]
     },
     "metadata": {},
     "output_type": "display_data"
    }
   ],
   "source": [
    "fig = plt.figure(figsize=(12,12))\n",
    "hist_n, binedges, hist_patches = plt.hist(df['scatmag_i'],bins=N_bins,range=(i_min,i_max))"
   ]
  },
  {
   "cell_type": "code",
   "execution_count": 8,
   "metadata": {},
   "outputs": [
    {
     "name": "stdout",
     "output_type": "stream",
     "text": [
      "[   2893.    4076.    5844.    8241.   11637.   16955.   24502.   34385.\n",
      "   48011.   63370.   80726.  100368.  121577.  149520.  188045.  243211.\n",
      "  319277.  419505.  548529.  714757.] [ 18.    18.35  18.7   19.05  19.4   19.75  20.1   20.45  20.8   21.15\n",
      "  21.5   21.85  22.2   22.55  22.9   23.25  23.6   23.95  24.3   24.65  25.  ]\n"
     ]
    }
   ],
   "source": [
    "print (hist_n,binedges)"
   ]
  },
  {
   "cell_type": "markdown",
   "metadata": {},
   "source": [
    "In order to get a uniform number per magnitude slice we can just make a random number between 0 and 1 for each galaxy and weight by the inverse of the number counts histogram.  If we then use this weight as a threshold, we will select the same number of galaxies per magnitude bin.  num_per_bin will be the number selected per bin, the total desired divided by the number of bins.."
   ]
  },
  {
   "cell_type": "code",
   "execution_count": 9,
   "metadata": {},
   "outputs": [
    {
     "name": "stdout",
     "output_type": "stream",
     "text": [
      "5250.0\n"
     ]
    }
   ],
   "source": [
    "inv_n = 1./hist_n\n",
    "num_per_bin = N_tot/N_bins\n",
    "print (num_per_bin)"
   ]
  },
  {
   "cell_type": "code",
   "execution_count": 10,
   "metadata": {},
   "outputs": [
    {
     "name": "stdout",
     "output_type": "stream",
     "text": [
      "[ 1.8147252   1.28802748  0.89835729  0.63705861  0.4511472   0.30964317\n",
      "  0.21426822  0.15268286  0.10934994  0.08284677  0.06503481  0.05230751\n",
      "  0.04318251  0.03511236  0.02791885  0.02158619  0.0164434   0.01251475\n",
      "  0.00957105  0.00734515]\n"
     ]
    }
   ],
   "source": [
    "weight = num_per_bin/hist_n\n",
    "print (weight)"
   ]
  },
  {
   "cell_type": "markdown",
   "metadata": {},
   "source": [
    "Note that the weight is >1 for the first two bins, and thus *all* galaxies in those bins will be selected, while in the final bin between 24.64 and 25. the weight is only 0.00734, so less than 1percent of those galaxies will be selected for the training set"
   ]
  },
  {
   "cell_type": "code",
   "execution_count": 11,
   "metadata": {},
   "outputs": [
    {
     "name": "stdout",
     "output_type": "stream",
     "text": [
      "[ 18.    18.35  18.7   19.05  19.4   19.75  20.1   20.45  20.8   21.15\n",
      "  21.5   21.85  22.2   22.55  22.9   23.25  23.6   23.95  24.3   24.65  25.  ]\n",
      "[ 18.175  18.525  18.875  19.225  19.575  19.925  20.275  20.625  20.975\n",
      "  21.325  21.675  22.025  22.375  22.725  23.075  23.425  23.775  24.125\n",
      "  24.475  24.825]\n"
     ]
    }
   ],
   "source": [
    "bincents = 0.5*(binedges[1:]+binedges[:-1])\n",
    "print(binedges)\n",
    "print(bincents)"
   ]
  },
  {
   "cell_type": "markdown",
   "metadata": {},
   "source": [
    "Create a 1d interpolation function with linear interpolation to define the weight threshold continuously as a function of i-band magnitude.  Set the weigt to just return the boundary values below and above the defined bin boundaries"
   ]
  },
  {
   "cell_type": "code",
   "execution_count": 12,
   "metadata": {},
   "outputs": [],
   "source": [
    "weightFunc = scipy.interpolate.interp1d(bincents,weight,kind='linear',bounds_error=False,fill_value=(weight[0],weight[-1]))"
   ]
  },
  {
   "cell_type": "code",
   "execution_count": 13,
   "metadata": {},
   "outputs": [],
   "source": [
    "randoms = np.random.rand(len(df['scatmag_i']))\n",
    "allweights = weightFunc(df['scatmag_i'])"
   ]
  },
  {
   "cell_type": "code",
   "execution_count": 14,
   "metadata": {},
   "outputs": [],
   "source": [
    "flat_train_mask = np.logical_and(randoms<allweights,df['scatmag_i']<25.)"
   ]
  },
  {
   "cell_type": "code",
   "execution_count": 15,
   "metadata": {},
   "outputs": [
    {
     "name": "stdout",
     "output_type": "stream",
     "text": [
      "107327\n"
     ]
    }
   ],
   "source": [
    "print (np.sum(flat_train_mask))"
   ]
  },
  {
   "cell_type": "code",
   "execution_count": 16,
   "metadata": {},
   "outputs": [],
   "source": [
    "train_col_name = 'flat_training_flag'\n",
    "df[train_col_name]=flat_train_mask"
   ]
  },
  {
   "cell_type": "code",
   "execution_count": 17,
   "metadata": {},
   "outputs": [],
   "source": [
    "flat_train_i = df['scatmag_i'][flat_train_mask]"
   ]
  },
  {
   "cell_type": "markdown",
   "metadata": {},
   "source": [
    "Make a plot of the number counts for the full sample and those selected in the training set"
   ]
  },
  {
   "cell_type": "code",
   "execution_count": 18,
   "metadata": {},
   "outputs": [
    {
     "data": {
      "text/plain": [
       "<matplotlib.legend.Legend at 0x2b10b93fa7f0>"
      ]
     },
     "execution_count": 18,
     "metadata": {},
     "output_type": "execute_result"
    },
    {
     "data": {
      "image/png": "[encoded data removed]",
      "text/plain": [
       "<matplotlib.figure.Figure at 0x2b10b93f5780>"
      ]
     },
     "metadata": {},
     "output_type": "display_data"
    }
   ],
   "source": [
    "fig = plt.figure(figsize=(12,12))\n",
    "nall,binedgeall,pathesall = plt.hist(df['scatmag_i'],bins=35,range=(18.,28.),alpha=0.7,label='All')\n",
    "ntrain, binedgestrain, patchestrain = plt.hist(flat_train_i,bins=35,range=(18.,28.),alpha=0.7,label='flat training')\n",
    "plt.yscale('log')\n",
    "plt.xlabel('i-band magnitude',fontsize=15)\n",
    "plt.ylabel('Number',fontsize=15)\n",
    "plt.legend(loc='upper left',fontsize=11)"
   ]
  },
  {
   "cell_type": "markdown",
   "metadata": {},
   "source": [
    "Now, make a plot of the redshift distribution of the full sample as well as the flat training sample"
   ]
  },
  {
   "cell_type": "code",
   "execution_count": 19,
   "metadata": {},
   "outputs": [],
   "source": [
    "flat_train_sz = df['redshift'][flat_train_mask]"
   ]
  },
  {
   "cell_type": "code",
   "execution_count": 20,
   "metadata": {},
   "outputs": [
    {
     "data": {
      "text/plain": [
       "<matplotlib.legend.Legend at 0x2b10bb90e3c8>"
      ]
     },
     "execution_count": 20,
     "metadata": {},
     "output_type": "execute_result"
    },
    {
     "data": {
      "image/png": "[encoded data removed]",
      "text/plain": [
       "<matplotlib.figure.Figure at 0x2b10bb93b080>"
      ]
     },
     "metadata": {},
     "output_type": "display_data"
    }
   ],
   "source": [
    "fig = plt.figure(figsize=(12,10))\n",
    "zall,zbinedges,zbinpatches = plt.hist(df['redshift'],bins=30,range=(0.,1.),alpha=0.7,label='All')\n",
    "sztrain, szbinedgestrain, szpatchestrain = plt.hist(flat_train_sz,bins=30,range=(0.,1.),alpha=0.7,label='flat training')\n",
    "plt.yscale('log')\n",
    "plt.xlabel('redshift',fontsize=15)\n",
    "plt.ylabel('Number',fontsize=15)\n",
    "plt.legend(loc='upper left',fontsize=11)"
   ]
  },
  {
   "cell_type": "code",
   "execution_count": null,
   "metadata": {},
   "outputs": [],
   "source": []
  },
  {
   "cell_type": "markdown",
   "metadata": {},
   "source": [
    "Looks as expected, so let's write out the subset that have flat_training_flag set to True to their own HDF5 file"
   ]
  },
  {
   "cell_type": "code",
   "execution_count": 23,
   "metadata": {},
   "outputs": [],
   "source": [
    "df_flat_train = df[df['flat_training_flag']==True]\n",
    "outfile_protodc2_flat_training = \"protodc2_v5_ugrizy_witherrs_flat_training.h5\"\n",
    "#comment out for now so I don't accidentally overwrite\n",
    "#df_flat_train.to_hdf(outfile_protodc2_flat_training, 'df_flat_train')"
   ]
  },
  {
   "cell_type": "code",
   "execution_count": null,
   "metadata": {},
   "outputs": [],
   "source": []
  }
 ],
 "metadata": {
  "kernelspec": {
   "display_name": "desc-python",
   "language": "python",
   "name": "desc-python"
  },
  "language_info": {
   "codemirror_mode": {
    "name": "ipython",
    "version": 3
   },
   "file_extension": ".py",
   "mimetype": "text/x-python",
   "name": "python",
   "nbconvert_exporter": "python",
   "pygments_lexer": "ipython3",
   "version": "3.6.2"
  }
 },
 "nbformat": 4,
 "nbformat_minor": 2
}
