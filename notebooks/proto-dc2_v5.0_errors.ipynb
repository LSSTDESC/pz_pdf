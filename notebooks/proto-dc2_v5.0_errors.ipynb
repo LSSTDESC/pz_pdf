{
 "cells": [
  {
   "cell_type": "code",
   "execution_count": 1,
   "metadata": {},
   "outputs": [],
   "source": [
    "import sys, os\n",
    "import numpy as np\n",
    "import matplotlib.pyplot as plt\n",
    "import scipy.interpolate \n",
    "import pandas as pd\n",
    "%matplotlib inline"
   ]
  },
  {
   "cell_type": "code",
   "execution_count": 2,
   "metadata": {},
   "outputs": [],
   "source": [
    "plt.rcParams[\"figure.figsize\"] = (10,10)"
   ]
  },
  {
   "cell_type": "markdown",
   "metadata": {},
   "source": [
    "We will use the PhotoZDC1 package, specifically photErrorModel, to create the errors, you can grab this package from GitHub with:<br>\n",
    "git clone https://github.com/LSSTDESC/PhotoZDC1.git <br>\n",
    "then add the location to your path, as below.  This implements the error model as defined in Ivezic et al (2008) (see: https://arxiv.org/abs/0805.2366 for details)"
   ]
  },
  {
   "cell_type": "code",
   "execution_count": 3,
   "metadata": {},
   "outputs": [],
   "source": [
    "#Add the PhotoZDC1 package to the path and import photErrorModel that will be used to generate errors \n",
    "sys.path.insert(0, '/global/u2/s/schmidt9/PhotoZDC1/src')\n",
    "import photErrorModel as errMod"
   ]
  },
  {
   "cell_type": "markdown",
   "metadata": {},
   "source": [
    "Set up the LSST Error Model parameters.  Alex used some defaults from the Science Book that are not quite the same as the newest numbers from the Science Drivers document (arxiv: 0805.2366v5), so update them here.  We'll use the following number of total visits in 10 years as listed in Table 1:\n",
    "NVISITS: u: 56  g: 80  r: 184  i: 184  z: 160  y: 160\n",
    "\n",
    "And check the error model parameters against those listed in Table 2:\n",
    "Nearly all values will have to be updated\n",
    "\n",
    "Note that we should use ''theta_eff'', not ''theta'' in the tables!\n",
    "\n",
    "There is a simple parameter to try to account for extended objects versus the point sources that these models are meant to approximate.  A quick discussion with Zeljko Ivezic and Andy Connolly years ago I believe decided on an offset in m5 value of 0.1 as a very rough approximation, so we'll add that with the errmodel.extendedsource = 0.1 parameter\n",
    "\n",
    "We can check the param settings with the .\\_\\_repr\\_\\_ method"
   ]
  },
  {
   "cell_type": "code",
   "execution_count": 4,
   "metadata": {},
   "outputs": [
    {
     "data": {
      "text/plain": [
       "<bound method LSSTErrorModel.__repr__ of \n",
       " LSSTErrorModel parameters:\n",
       " Exposure time = 30.0 s\n",
       " Number of years of observations = 10.0\n",
       " Number of visits per year per band: {'LSST_u': 5.6, 'LSST_g': 8.0, 'LSST_r': 18.4, 'LSST_i': 18.4, 'LSST_z': 16.0, 'LSST_y': 16.0}\n",
       " Systematic error = 0.005 mag\n",
       " Airmass = 1.2\n",
       " Sky brightness per band: {'LSST_u': 22.99, 'LSST_g': 22.26, 'LSST_r': 21.2, 'LSST_i': 20.48, 'LSST_z': 19.6, 'LSST_y': 18.61} (mag)\n",
       " Seeing per band: {'LSST_u': 0.92, 'LSST_g': 0.87, 'LSST_r': 0.83, 'LSST_i': 0.8, 'LSST_z': 0.78, 'LSST_y': 0.76} (arcsec)\n",
       " gamma per band: {'LSST_u': 0.038, 'LSST_g': 0.039, 'LSST_r': 0.039, 'LSST_i': 0.039, 'LSST_z': 0.039, 'LSST_y': 0.039}\n",
       " Cm per band: {'LSST_u': 22.47, 'LSST_g': 24.24, 'LSST_r': 24.34, 'LSST_i': 24.25, 'LSST_z': 24.11, 'LSST_y': 23.69}\n",
       " Extinction coeff. per band: {'LSST_u': 0.491, 'LSST_g': 0.213, 'LSST_r': 0.126, 'LSST_i': 0.096, 'LSST_z': 0.069, 'LSST_y': 0.17}\n",
       " Extended source model: add 0.1 mag to 5-sigma depth for point sources\n",
       " Minimum allowed observed flux = 2.5e-40\n",
       ">"
      ]
     },
     "execution_count": 4,
     "metadata": {},
     "output_type": "execute_result"
    }
   ],
   "source": [
    "errmodel = errMod.LSSTErrorModel()\n",
    "errmodel.tvis = 30.0\n",
    "errmodel.nYrObs=10.0\n",
    "visits = {'LSST_u':5.6, 'LSST_g':8.0, 'LSST_r':18.4, 'LSST_i':18.4,'LSST_z':16.0,'LSST_y':16.0}\n",
    "errmodel.nVisYr=visits\n",
    "msky = {'LSST_u':22.99, 'LSST_g':22.26, 'LSST_r':21.20, 'LSST_i':20.48,'LSST_z':19.60,'LSST_y':18.61}\n",
    "errmodel.msky = msky\n",
    "#theta = {'LSST_u':0.81, 'LSST_g':0.77, 'LSST_r':0.73, 'LSST_i':0.71,'LSST_z':0.69,'LSST_y':0.68}\n",
    "theta = {'LSST_u':0.92, 'LSST_g':0.87, 'LSST_r':0.83, 'LSST_i':0.80,'LSST_z':0.78,'LSST_y':0.76}\n",
    "errmodel.theta = theta\n",
    "gamma = {'LSST_u':0.038, 'LSST_g':0.039, 'LSST_r':0.039, 'LSST_i':0.039,'LSST_z':0.039,'LSST_y':0.039}\n",
    "errmodel.gamma = gamma\n",
    "#cm = {'LSST_u':23.09, 'LSST_g':24.42, 'LSST_r':24.44, 'LSST_i':24.32,'LSST_z':24.16,'LSST_y':23.73}\n",
    "cmshift = {'LSST_u':22.47, 'LSST_g':24.24, 'LSST_r':24.34, 'LSST_i':24.25,'LSST_z':24.11,'LSST_y':23.69}\n",
    "errmodel.Cm = cmshift\n",
    "km = {'LSST_u':0.491, 'LSST_g':0.213, 'LSST_r':0.126, 'LSST_i':0.096,'LSST_z':0.069,'LSST_y':0.170}\n",
    "errmodel.km = km\n",
    "errmodel.airMass = 1.2\n",
    "errmodel.extendedSource=0.1\n",
    "errmodel.sigmaSys = 0.005\n",
    "errmodel.__repr__"
   ]
  },
  {
   "cell_type": "markdown",
   "metadata": {},
   "source": [
    "Let's check the 5 sigma point source depths, which should equal the following numbers at Zenith (we need to account for the Delta_Cm values which account for instrumental noise, listed below are m5 values minus the deltaCm^inf values in Table 2 of the Ivezic paper)<br>\n",
    "u: 23.78 - 0.62 = 23.16<br>\n",
    "g: 24.81 - 0.18 = 24.63<br>\n",
    "r: 24.35 - 0.10 = 24.25<br>\n",
    "i: 23.92 - 0.07 = 23.85<br>\n",
    "z: 23.34 - 0.05 = 23.29<br>\n",
    "y: 22.45 - 0.04 = 22.41<br>"
   ]
  },
  {
   "cell_type": "code",
   "execution_count": 5,
   "metadata": {},
   "outputs": [
    {
     "name": "stdout",
     "output_type": "stream",
     "text": [
      "LSST_u  23.17\n",
      "LSST_g  24.63\n",
      "LSST_r  24.26\n",
      "LSST_i  23.85\n",
      "LSST_z  23.29\n",
      "LSST_y  22.41\n"
     ]
    }
   ],
   "source": [
    "filts = ('LSST_u','LSST_g','LSST_r','LSST_i','LSST_z','LSST_y')\n",
    "for filt in filts:\n",
    "    print (\"%s  %.2f\"%(filt,errmodel._m5PointSources(cmshift[filt],msky[filt],theta[filt],30.,km[filt],1.0)))\n",
    "    #args are Cm, msky, theta, tvis (30 seconds), km, and X (airmass, set to zenith so 1.0)"
   ]
  },
  {
   "cell_type": "markdown",
   "metadata": {},
   "source": [
    "m5 values check out to the .01 level, so that is good!<br>\n",
    "Now let's import the catalog that we want, in this instance proto-dc2_v5.0"
   ]
  },
  {
   "cell_type": "code",
   "execution_count": 6,
   "metadata": {},
   "outputs": [
    {
     "name": "stdout",
     "output_type": "stream",
     "text": [
      "GCRCatalogs = 0.8.0 | GCR = 0.7.2\n"
     ]
    }
   ],
   "source": [
    "import GCRCatalogs\n",
    "## check version\n",
    "print('GCRCatalogs =', GCRCatalogs.__version__, '|' ,'GCR =', GCRCatalogs.GCR.__version__)"
   ]
  },
  {
   "cell_type": "code",
   "execution_count": 7,
   "metadata": {},
   "outputs": [],
   "source": [
    "#print('\\n'.join(sorted(GCRCatalogs.get_available_catalogs(False))))"
   ]
  },
  {
   "cell_type": "code",
   "execution_count": 8,
   "metadata": {},
   "outputs": [
    {
     "name": "stderr",
     "output_type": "stream",
     "text": [
      "/global/common/software/lsst/common/miniconda/py3-4.3.21-env/lib/python3.6/site-packages/GCRCatalogs/alphaq.py:105: UserWarning: No md5 sum specified in the config file\n",
      "  warnings.warn('No md5 sum specified in the config file')\n"
     ]
    }
   ],
   "source": [
    "gc = GCRCatalogs.load_catalog('proto-dc2_v5.0_test')"
   ]
  },
  {
   "cell_type": "code",
   "execution_count": 9,
   "metadata": {},
   "outputs": [],
   "source": [
    "#List all available quantities in the catalog\n",
    "#print('\\n'.join(sorted(gc.list_all_native_quantities())[:]))"
   ]
  },
  {
   "cell_type": "markdown",
   "metadata": {},
   "source": [
    "Set up some names that we will use to grab the six LSST magnitudes from the catalog reader"
   ]
  },
  {
   "cell_type": "code",
   "execution_count": 10,
   "metadata": {},
   "outputs": [
    {
     "name": "stdout",
     "output_type": "stream",
     "text": [
      "('u', 'g', 'r', 'i', 'z', 'y') ['LSST_filters/magnitude:LSST_u:observed:dustAtlas', 'LSST_filters/magnitude:LSST_g:observed:dustAtlas', 'LSST_filters/magnitude:LSST_r:observed:dustAtlas', 'LSST_filters/magnitude:LSST_i:observed:dustAtlas', 'LSST_filters/magnitude:LSST_z:observed:dustAtlas', 'LSST_filters/magnitude:LSST_y:observed:dustAtlas', 'redshift']\n"
     ]
    }
   ],
   "source": [
    "filts = ('u','g','r','i','z','y')\n",
    "magcols = []\n",
    "pdcols = []\n",
    "for filt in filts:\n",
    "    magcols.append('LSST_filters/magnitude:LSST_%s:observed:dustAtlas'%filt)\n",
    "    pdcols.append('LSST_%s_true'%filt)\n",
    "allcols = magcols\n",
    "allcols.append('redshift')\n",
    "print (filts,magcols)"
   ]
  },
  {
   "cell_type": "markdown",
   "metadata": {},
   "source": [
    "We will be computing the model errors for our mock galaxies.  The error fuction produced by the PZDC1.getMagError function is very smooth.  Rather than computing this for every galaxy, we will compute a grid for each filter and interpolate between them to speed up the computation.  We will set an ad hoc upper limit of 35 for magnitude, above this magnitude we will set the spline to return 99.0.  This should only really occur for flux <= 0.0 and a NaN in the log(flux)."
   ]
  },
  {
   "cell_type": "code",
   "execution_count": 11,
   "metadata": {},
   "outputs": [],
   "source": [
    "mag_min = 10.\n",
    "mag_max = 35.\n",
    "num_gridpts = 4001 #parameters for magerr_spline\n",
    "mag_grid = np.linspace(mag_min,mag_max,num_gridpts)\n",
    "#print (mag_grid)"
   ]
  },
  {
   "cell_type": "markdown",
   "metadata": {},
   "source": [
    "Now, define the functions for making the spline and creating new magnitudes.  For scattermag, we need to convert to flux, add Gaussian uncertainty, then convert back to flux."
   ]
  },
  {
   "cell_type": "code",
   "execution_count": 12,
   "metadata": {},
   "outputs": [],
   "source": [
    "def makespline(grid,filter):\n",
    "    fx =  [errmodel.getMagError(x,filter) for x in grid]\n",
    "    return fx"
   ]
  },
  {
   "cell_type": "code",
   "execution_count": 13,
   "metadata": {},
   "outputs": [],
   "source": [
    "floor = 1.e-18\n",
    "def scattermag(mag,magerr):\n",
    "    \"\"\"Add proper uncertainty to magnitude\n",
    "    Parmeters\n",
    "    ---------\n",
    "    mag: 'float' array-like\n",
    "        true magnitudes \n",
    "    magerr: 'float' array-like\n",
    "        magnitude uncertainties \n",
    "    Returns\n",
    "    -------\n",
    "    newmag: 'float' array-like\n",
    "        magnitudes with proper uncertainty, or 99 if flux was negative after error added\n",
    "    \"\"\"\n",
    "    flux = [np.power(10.,-0.4*magx) for magx in mag]\n",
    "#    errflux = np.array([fluxx*0.921034*magerrx for fluxx,magerrx in zip(flux,magerr)])\n",
    "    errflux = np.array([fluxx*0.4*np.log(10.)*magerrx for fluxx,magerrx in zip(flux,magerr)])\n",
    "    mask = (errflux<0.0)\n",
    "    #print (\"number with err < 0:%d\\n\"%(np.sum(mask)))\n",
    "    errflux[mask] = 0.005\n",
    "    tmperr = [np.random.normal(0.0,errfluxx) for errfluxx in errflux]\n",
    "    newflux = np.subtract(flux,tmperr)\n",
    "    mask = (newflux < floor)\n",
    "    newflux[mask] = floor\n",
    "    newmag = [-2.5*np.log10(newfluxx) for newfluxx in newflux]\n",
    "    mask2 = (newmag != newmag)#error for NaN or Inf, which can happen if flux is negative or 0\n",
    "    newmag[mask2] = 99.0\n",
    "    return newmag"
   ]
  },
  {
   "cell_type": "code",
   "execution_count": 18,
   "metadata": {},
   "outputs": [],
   "source": [
    "#shortfilts = (['g'])\n",
    "#shortmags = (['LSST_filters/magnitude:LSST_g:observed:dustAtlas'])"
   ]
  },
  {
   "cell_type": "markdown",
   "metadata": {},
   "source": [
    "Read in the data, create a Pandas dataframe for the true magnitudes, and add new columns for the magnitude errors.  Use the return_iterator=True option with the catalog reader to help handle the large data files"
   ]
  },
  {
   "cell_type": "code",
   "execution_count": null,
   "metadata": {},
   "outputs": [],
   "source": [
    "%%time\n",
    "#for data in gc.get_quantities(allcols,return_iterator=True, filters =['mag_i < 21.0','redshift < 3.0'] ): #include filters for small subset during testing\n",
    "for data in gc.get_quantities(allcols,return_iterator=True): #use the iterator method\n",
    "    #data = gc.get_quantities(allcols)\n",
    "    df = pd.DataFrame(data, columns = allcols)\n",
    "    #df.rename(columns=colrename)\n",
    "    for filt,magcol in zip(filts,magcols):\n",
    "        tmpmag = data[magcol]\n",
    "        grid_errs = makespline(mag_grid,'LSST_%s'%filt)\n",
    "        #print (grid_errs)\n",
    "        errspline = scipy.interpolate.interp1d(mag_grid,grid_errs,kind='linear',bounds_error=False,fill_value=99.0)#return 99.0 outside interval\n",
    "        newerrx = [errspline(xmag) for xmag in tmpmag]\n",
    "        newmag = scattermag(tmpmag,newerrx)\n",
    "        newerr = np.array([errspline(xmag) for xmag in newmag])\n",
    "        magname = 'scatmag_%s'%filt\n",
    "        errname = 'scaterr_%s'%filt\n",
    "        df[magname] = newmag\n",
    "        df[errname] = newerr"
   ]
  },
  {
   "cell_type": "markdown",
   "metadata": {},
   "source": [
    "Take a look at the dataframe"
   ]
  },
  {
   "cell_type": "code",
   "execution_count": 22,
   "metadata": {},
   "outputs": [
    {
     "name": "stdout",
     "output_type": "stream",
     "text": [
      "<class 'pandas.core.frame.DataFrame'>\n",
      "RangeIndex: 18286706 entries, 0 to 18286705\n",
      "Data columns (total 9 columns):\n",
      "LSST_filters/magnitude:LSST_u:observed:dustAtlas    float32\n",
      "LSST_filters/magnitude:LSST_g:observed:dustAtlas    float32\n",
      "LSST_filters/magnitude:LSST_r:observed:dustAtlas    float32\n",
      "LSST_filters/magnitude:LSST_i:observed:dustAtlas    float32\n",
      "LSST_filters/magnitude:LSST_z:observed:dustAtlas    float32\n",
      "LSST_filters/magnitude:LSST_y:observed:dustAtlas    float32\n",
      "redshift                                            float64\n",
      "scatmag_g                                           float64\n",
      "scaterr_g                                           float64\n",
      "dtypes: float32(6), float64(3)\n",
      "memory usage: 837.1 MB\n"
     ]
    }
   ],
   "source": [
    "df.info()"
   ]
  },
  {
   "cell_type": "code",
   "execution_count": null,
   "metadata": {},
   "outputs": [],
   "source": [
    "utrue = df['LSST_filters/magnitude:LSST_u:observed:dustAtlas']\n",
    "gtrue = df['LSST_filters/magnitude:LSST_g:observed:dustAtlas']\n",
    "rtrue = df['LSST_filters/magnitude:LSST_r:observed:dustAtlas']\n",
    "itrue = df['LSST_filters/magnitude:LSST_i:observed:dustAtlas']\n",
    "ztrue = df['LSST_filters/magnitude:LSST_z:observed:dustAtlas']\n",
    "ytrue = df['LSST_filters/magnitude:LSST_y:observed:dustAtlas']"
   ]
  },
  {
   "cell_type": "code",
   "execution_count": null,
   "metadata": {},
   "outputs": [],
   "source": [
    "fig = plt.figure(figsize=(10,10))\n",
    "plt.scatter(df['scatmag_g']-df['scatmag_r'],df['scatmag_r']-df['scatmag_i'],marker='o',s=10)\n",
    "plt.scatter(gtrue-rtrue,rtrue-itrue,marker='o',s=2,c='r')\n",
    "#plt.xlim([-.5,2.5])\n",
    "#plt.ylim([-1.05,2.05])"
   ]
  },
  {
   "cell_type": "code",
   "execution_count": null,
   "metadata": {},
   "outputs": [],
   "source": [
    "g = df['LSST_filters/magnitude:LSST_g:observed:dustAtlas']\n",
    "fig = plt.figure(figsize=(14,14))\n",
    "#plt.scatter(g[::100],df['scaterr_g'][::100],s=5,marker='.',c='b')\n",
    "plt.scatter(df['scatmag_g'][::100],df['scaterr_g'][::100],s=25,marker='.',c='g')\n",
    "plt.scatter(df['scatmag_r'][::100],df['scaterr_r'][::100],s=20,marker='.',c='r')\n",
    "plt.scatter(df['scatmag_i'][::100],df['scaterr_i'][::100],s=15,marker='.',c='purple')\n",
    "plt.xlim([10,35])\n",
    "plt.ylim([-.001,.045])"
   ]
  },
  {
   "cell_type": "code",
   "execution_count": null,
   "metadata": {},
   "outputs": [],
   "source": [
    "plt.scatter(df['redshift'][::100],df['scatmag_g'][::100]-df['scatmag_r'][::100],marker='o',s=5,c='k')\n",
    "plt.xlabel(\"redshift\",fontsize=18)\n",
    "plt.ylabel(\"g-r\",fontsize=18)"
   ]
  },
  {
   "cell_type": "markdown",
   "metadata": {},
   "source": [
    "Make a couple color-color plots of the \"truth\" data before uncertainties have been added to the magnitudes"
   ]
  },
  {
   "cell_type": "code",
   "execution_count": null,
   "metadata": {},
   "outputs": [],
   "source": [
    "ug_t = utrue - gtrue\n",
    "gr_t = gtrue - rtrue\n",
    "ri_t = rtrue - itrue"
   ]
  },
  {
   "cell_type": "code",
   "execution_count": null,
   "metadata": {},
   "outputs": [],
   "source": [
    "mask = (itrue<25.3)\n",
    "ug_tgold = ug_t[mask]\n",
    "gr_tgold = gr_t[mask]\n",
    "ri_tgold = ri_t[mask]"
   ]
  },
  {
   "cell_type": "code",
   "execution_count": null,
   "metadata": {},
   "outputs": [],
   "source": [
    "fig = plt.figure(figsize=(16,8))\n",
    "ax=plt.subplot(121)\n",
    "ax.scatter(gr_tgold[::100],ri_tgold[::100],marker='.',s=20,c='r')\n",
    "plt.xlabel('g-r',fontsize=18)\n",
    "plt.ylabel('r-i',fontsize=18)\n",
    "bx = plt.subplot(122)\n",
    "bx.scatter(ug_tgold[::100],gr_tgold[::100],marker='.',s=20,c='b')\n",
    "plt.xlabel('u-g',fontsize=18)\n",
    "plt.ylabel('g-r',fontsize=18)"
   ]
  },
  {
   "cell_type": "markdown",
   "metadata": {},
   "source": [
    "Now write the pandas dataframe out to file, we'll write out to an hdf5 file"
   ]
  },
  {
   "cell_type": "code",
   "execution_count": null,
   "metadata": {},
   "outputs": [],
   "source": [
    "outfile_protodc2 = \"protodc2_v5_ugrizy_witherrs.h5\"\n",
    "df.to_hdf(outfile_protodc2, 'df')"
   ]
  },
  {
   "cell_type": "code",
   "execution_count": null,
   "metadata": {},
   "outputs": [],
   "source": []
  },
  {
   "cell_type": "code",
   "execution_count": null,
   "metadata": {},
   "outputs": [],
   "source": []
  }
 ],
 "metadata": {
  "kernelspec": {
   "display_name": "desc-stack",
   "language": "python",
   "name": "desc-stack"
  },
  "language_info": {
   "codemirror_mode": {
    "name": "ipython",
    "version": 3
   },
   "file_extension": ".py",
   "mimetype": "text/x-python",
   "name": "python",
   "nbconvert_exporter": "python",
   "pygments_lexer": "ipython3",
   "version": "3.6.2"
  }
 },
 "nbformat": 4,
 "nbformat_minor": 2
}
